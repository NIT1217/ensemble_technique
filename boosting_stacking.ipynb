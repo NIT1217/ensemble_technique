{
  "nbformat": 4,
  "nbformat_minor": 0,
  "metadata": {
    "colab": {
      "provenance": []
    },
    "kernelspec": {
      "name": "python3",
      "display_name": "Python 3"
    },
    "language_info": {
      "name": "python"
    }
  },
  "cells": [
    {
      "cell_type": "markdown",
      "source": [
        "1. What is Boosting in Machine Learning?\n",
        "- boosting Stansda for learning from the error of previous model to make the new model more accurate .\n",
        "it is a sequential process"
      ],
      "metadata": {
        "id": "A67sz3mCU3vY"
      }
    },
    {
      "cell_type": "markdown",
      "source": [
        "2. How does Boosting differ from Bagging?\n",
        "- bagging is a parallel learning process and it solve the problem of high variance, whereas bagging is a sequential process and it solves the problem of high  bias. bagging include base learners whereas boosting takes  weak learners"
      ],
      "metadata": {
        "id": "o4rOF7pyU3tC"
      }
    },
    {
      "cell_type": "markdown",
      "source": [
        "3. What is the key idea behind AdaBoost?\n",
        "-Adaboost solve the problem of mistakes made by previous learners and it is one of the most powerful ensemble technique"
      ],
      "metadata": {
        "id": "qlMWoWtTU3qN"
      }
    },
    {
      "cell_type": "markdown",
      "source": [
        "4.  Explain the working of AdaBoost with an example?\n",
        "- Adaboost solve the problem of mistakes made by previous learners and it is one of the most powerful ensemble technique,\n",
        "example :\n",
        "email spam detaction"
      ],
      "metadata": {
        "id": "SSyCKUExU3nv"
      }
    },
    {
      "cell_type": "markdown",
      "source": [
        "5.  What is Gradient Boosting, and how is it different from AdaBoost?\n",
        "- gradient boosting is ensemble technique which works on the full grown decision tree whwreas adaboost works on the principle of decision stamp, gradient boosting takes residue as target variable where as adaboost learns from the mistakes of previous model"
      ],
      "metadata": {
        "id": "lyrMUNv4U3kl"
      }
    },
    {
      "cell_type": "markdown",
      "source": [
        "6. What is the loss function in Gradient Boosting?\n",
        "-it is a parameter whch guides the model to minimise the loss(error) of the previous model"
      ],
      "metadata": {
        "id": "ovjjEuNMU3iB"
      }
    },
    {
      "cell_type": "markdown",
      "source": [
        "7. How does XGBoost improve over traditional Gradient Boosting?\n",
        "- XGBoost is better version of Gradient boostiing  and is farster  as it uses multiprocessors ,Gradient boosting takes standerd loss and the XGboost takes customise loss function"
      ],
      "metadata": {
        "id": "LOPq9l1IU3e_"
      }
    },
    {
      "cell_type": "markdown",
      "source": [
        "8.  What is the difference between XGBoost and CatBoost?\n",
        "- the diffrence betwwen Xgboost and catBoost is that, Xgboost takes decision trees whwreaas catboost takes symmetric  decision tree."
      ],
      "metadata": {
        "id": "2QReBoMkU3b3"
      }
    },
    {
      "cell_type": "markdown",
      "source": [
        "9. What are some real-world applications of Boosting techniques?\n",
        "- boosing techniques are used in\n",
        "1. recomwendation system\n",
        "2. spam mail detection\n",
        "3. medical digonolosis"
      ],
      "metadata": {
        "id": "ozJnJR4nU3Y6"
      }
    },
    {
      "cell_type": "markdown",
      "source": [
        "10. How does regularization help in XGBoost?\n",
        "- Regularization in XGBoost is a key feature that helps prevent overfitting and improves generalization — making the model perform better on unseen data."
      ],
      "metadata": {
        "id": "vfMP7JIXU3VX"
      }
    },
    {
      "cell_type": "markdown",
      "source": [
        "11. What are some hyperparameters to tune in Gradient Boosting models?\n",
        "- hyperperameters are : - learning_rate,n_estimator, loss"
      ],
      "metadata": {
        "id": "zgVu5PnXU3PW"
      }
    },
    {
      "cell_type": "markdown",
      "source": [
        "12. What is the concept of Feature Importance in Boosting?\n",
        "- Feature importance in boosting models (like XGBoost, Gradient Boosting, CatBoost, etc.) refers to how useful or valuable each feature is in building the decision trees that make up the model."
      ],
      "metadata": {
        "id": "KiyxceVZU3MB"
      }
    },
    {
      "cell_type": "markdown",
      "source": [
        "13.Why is CatBoost efficient for categorical data?\n",
        "- it is more efficient for categorical data bcs it dont reqires data encoding and can avoid overfitting"
      ],
      "metadata": {
        "id": "DdnEqXqffOq0"
      }
    },
    {
      "cell_type": "markdown",
      "source": [
        "# PRACTICLE QUESTION\n"
      ],
      "metadata": {
        "id": "PP-loIzBf3zB"
      }
    },
    {
      "cell_type": "code",
      "source": [
        "#14. Train an AdaBoost Classifier on a sample dataset and print model accuracy\n",
        "import pandas as pd\n",
        "from sklearn.datasets import load_iris\n",
        "data= load_iris()\n",
        "df= pd.DataFrame(data.data,columns= data.feature_names)\n",
        "df[\"target\"]= data.target\n",
        "x= df.iloc[:,:-1]\n",
        "y= df[\"target\"]\n",
        "\n",
        "\n",
        "from sklearn.model_selection import train_test_split\n",
        "x_train,x_test,y_train,y_test =  train_test_split(x,y , test_size= 0.2, random_state= 1)\n",
        "\n",
        "\n",
        "from sklearn.ensemble import AdaBoostClassifier\n",
        "ada_clf = AdaBoostClassifier()\n",
        "ada_clf.fit(x_train,y_train)\n",
        "y_pred = ada_clf.predict(x_test)\n",
        "\n",
        "from sklearn.metrics import accuracy_score\n",
        "print(accuracy_score(y_test,y_pred))\n",
        "\n",
        "#hyperperameter tunning\n",
        "\n",
        "from sklearn.model_selection import GridSearchCV\n",
        "\n",
        "param_grid = {\"n_estimators\":[50,100,40,200],\n",
        "\n",
        "              \"algorithm\":[\"SAMME\",\"SAMME.R\"],\n",
        "              \"learning_rate\":[0.2,0.003,0.1,2]\n",
        "              }\n",
        "\n",
        "model= GridSearchCV(estimator=ada_clf,param_grid =param_grid,cv=5,verbose = 2 )\n",
        "\n",
        "model.fit(x_train,y_train)\n",
        "best_model=model.best_estimator_\n",
        "y_pred_tunned = best_model.predict(x_test)\n",
        "\n",
        "from sklearn.metrics import accuracy_score\n",
        "print(accuracy_score(y_test,y_pred_tunned))\n",
        "\n"
      ],
      "metadata": {
        "colab": {
          "base_uri": "https://localhost:8080/"
        },
        "id": "mV7XdKiQf9VT",
        "outputId": "f5da0485-ea55-40c9-f832-d1e40830bd46"
      },
      "execution_count": null,
      "outputs": [
        {
          "output_type": "stream",
          "name": "stdout",
          "text": [
            "0.9666666666666667\n",
            "Fitting 5 folds for each of 32 candidates, totalling 160 fits\n",
            "[CV] END algorithm=SAMME, learning_rate=0.2, n_estimators=50; total time=   0.1s\n",
            "[CV] END algorithm=SAMME, learning_rate=0.2, n_estimators=50; total time=   0.1s\n",
            "[CV] END algorithm=SAMME, learning_rate=0.2, n_estimators=50; total time=   0.1s\n"
          ]
        },
        {
          "output_type": "stream",
          "name": "stderr",
          "text": [
            "/usr/local/lib/python3.11/dist-packages/sklearn/ensemble/_weight_boosting.py:519: FutureWarning: The parameter 'algorithm' is deprecated in 1.6 and has no effect. It will be removed in version 1.8.\n",
            "  warnings.warn(\n",
            "/usr/local/lib/python3.11/dist-packages/sklearn/ensemble/_weight_boosting.py:519: FutureWarning: The parameter 'algorithm' is deprecated in 1.6 and has no effect. It will be removed in version 1.8.\n",
            "  warnings.warn(\n",
            "/usr/local/lib/python3.11/dist-packages/sklearn/ensemble/_weight_boosting.py:519: FutureWarning: The parameter 'algorithm' is deprecated in 1.6 and has no effect. It will be removed in version 1.8.\n",
            "  warnings.warn(\n",
            "/usr/local/lib/python3.11/dist-packages/sklearn/ensemble/_weight_boosting.py:519: FutureWarning: The parameter 'algorithm' is deprecated in 1.6 and has no effect. It will be removed in version 1.8.\n",
            "  warnings.warn(\n"
          ]
        },
        {
          "output_type": "stream",
          "name": "stdout",
          "text": [
            "[CV] END algorithm=SAMME, learning_rate=0.2, n_estimators=50; total time=   0.1s\n",
            "[CV] END algorithm=SAMME, learning_rate=0.2, n_estimators=50; total time=   0.1s\n",
            "[CV] END algorithm=SAMME, learning_rate=0.2, n_estimators=100; total time=   0.1s\n"
          ]
        },
        {
          "output_type": "stream",
          "name": "stderr",
          "text": [
            "/usr/local/lib/python3.11/dist-packages/sklearn/ensemble/_weight_boosting.py:519: FutureWarning: The parameter 'algorithm' is deprecated in 1.6 and has no effect. It will be removed in version 1.8.\n",
            "  warnings.warn(\n",
            "/usr/local/lib/python3.11/dist-packages/sklearn/ensemble/_weight_boosting.py:519: FutureWarning: The parameter 'algorithm' is deprecated in 1.6 and has no effect. It will be removed in version 1.8.\n",
            "  warnings.warn(\n",
            "/usr/local/lib/python3.11/dist-packages/sklearn/ensemble/_weight_boosting.py:519: FutureWarning: The parameter 'algorithm' is deprecated in 1.6 and has no effect. It will be removed in version 1.8.\n",
            "  warnings.warn(\n"
          ]
        },
        {
          "output_type": "stream",
          "name": "stdout",
          "text": [
            "[CV] END algorithm=SAMME, learning_rate=0.2, n_estimators=100; total time=   0.1s\n",
            "[CV] END algorithm=SAMME, learning_rate=0.2, n_estimators=100; total time=   0.1s\n"
          ]
        },
        {
          "output_type": "stream",
          "name": "stderr",
          "text": [
            "/usr/local/lib/python3.11/dist-packages/sklearn/ensemble/_weight_boosting.py:519: FutureWarning: The parameter 'algorithm' is deprecated in 1.6 and has no effect. It will be removed in version 1.8.\n",
            "  warnings.warn(\n",
            "/usr/local/lib/python3.11/dist-packages/sklearn/ensemble/_weight_boosting.py:519: FutureWarning: The parameter 'algorithm' is deprecated in 1.6 and has no effect. It will be removed in version 1.8.\n",
            "  warnings.warn(\n"
          ]
        },
        {
          "output_type": "stream",
          "name": "stdout",
          "text": [
            "[CV] END algorithm=SAMME, learning_rate=0.2, n_estimators=100; total time=   0.1s\n",
            "[CV] END algorithm=SAMME, learning_rate=0.2, n_estimators=100; total time=   0.1s\n",
            "[CV] END algorithm=SAMME, learning_rate=0.2, n_estimators=40; total time=   0.0s\n"
          ]
        },
        {
          "output_type": "stream",
          "name": "stderr",
          "text": [
            "/usr/local/lib/python3.11/dist-packages/sklearn/ensemble/_weight_boosting.py:519: FutureWarning: The parameter 'algorithm' is deprecated in 1.6 and has no effect. It will be removed in version 1.8.\n",
            "  warnings.warn(\n",
            "/usr/local/lib/python3.11/dist-packages/sklearn/ensemble/_weight_boosting.py:519: FutureWarning: The parameter 'algorithm' is deprecated in 1.6 and has no effect. It will be removed in version 1.8.\n",
            "  warnings.warn(\n",
            "/usr/local/lib/python3.11/dist-packages/sklearn/ensemble/_weight_boosting.py:519: FutureWarning: The parameter 'algorithm' is deprecated in 1.6 and has no effect. It will be removed in version 1.8.\n",
            "  warnings.warn(\n"
          ]
        },
        {
          "output_type": "stream",
          "name": "stdout",
          "text": [
            "[CV] END algorithm=SAMME, learning_rate=0.2, n_estimators=40; total time=   0.1s\n",
            "[CV] END algorithm=SAMME, learning_rate=0.2, n_estimators=40; total time=   0.0s\n",
            "[CV] END algorithm=SAMME, learning_rate=0.2, n_estimators=40; total time=   0.1s\n",
            "[CV] END algorithm=SAMME, learning_rate=0.2, n_estimators=40; total time=   0.0s\n"
          ]
        },
        {
          "output_type": "stream",
          "name": "stderr",
          "text": [
            "/usr/local/lib/python3.11/dist-packages/sklearn/ensemble/_weight_boosting.py:519: FutureWarning: The parameter 'algorithm' is deprecated in 1.6 and has no effect. It will be removed in version 1.8.\n",
            "  warnings.warn(\n",
            "/usr/local/lib/python3.11/dist-packages/sklearn/ensemble/_weight_boosting.py:519: FutureWarning: The parameter 'algorithm' is deprecated in 1.6 and has no effect. It will be removed in version 1.8.\n",
            "  warnings.warn(\n",
            "/usr/local/lib/python3.11/dist-packages/sklearn/ensemble/_weight_boosting.py:519: FutureWarning: The parameter 'algorithm' is deprecated in 1.6 and has no effect. It will be removed in version 1.8.\n",
            "  warnings.warn(\n",
            "/usr/local/lib/python3.11/dist-packages/sklearn/ensemble/_weight_boosting.py:519: FutureWarning: The parameter 'algorithm' is deprecated in 1.6 and has no effect. It will be removed in version 1.8.\n",
            "  warnings.warn(\n"
          ]
        },
        {
          "output_type": "stream",
          "name": "stdout",
          "text": [
            "[CV] END algorithm=SAMME, learning_rate=0.2, n_estimators=200; total time=   0.2s\n"
          ]
        },
        {
          "output_type": "stream",
          "name": "stderr",
          "text": [
            "/usr/local/lib/python3.11/dist-packages/sklearn/ensemble/_weight_boosting.py:519: FutureWarning: The parameter 'algorithm' is deprecated in 1.6 and has no effect. It will be removed in version 1.8.\n",
            "  warnings.warn(\n"
          ]
        },
        {
          "output_type": "stream",
          "name": "stdout",
          "text": [
            "[CV] END algorithm=SAMME, learning_rate=0.2, n_estimators=200; total time=   0.3s\n"
          ]
        },
        {
          "output_type": "stream",
          "name": "stderr",
          "text": [
            "/usr/local/lib/python3.11/dist-packages/sklearn/ensemble/_weight_boosting.py:519: FutureWarning: The parameter 'algorithm' is deprecated in 1.6 and has no effect. It will be removed in version 1.8.\n",
            "  warnings.warn(\n"
          ]
        },
        {
          "output_type": "stream",
          "name": "stdout",
          "text": [
            "[CV] END algorithm=SAMME, learning_rate=0.2, n_estimators=200; total time=   0.2s\n"
          ]
        },
        {
          "output_type": "stream",
          "name": "stderr",
          "text": [
            "/usr/local/lib/python3.11/dist-packages/sklearn/ensemble/_weight_boosting.py:519: FutureWarning: The parameter 'algorithm' is deprecated in 1.6 and has no effect. It will be removed in version 1.8.\n",
            "  warnings.warn(\n"
          ]
        },
        {
          "output_type": "stream",
          "name": "stdout",
          "text": [
            "[CV] END algorithm=SAMME, learning_rate=0.2, n_estimators=200; total time=   0.2s\n"
          ]
        },
        {
          "output_type": "stream",
          "name": "stderr",
          "text": [
            "/usr/local/lib/python3.11/dist-packages/sklearn/ensemble/_weight_boosting.py:519: FutureWarning: The parameter 'algorithm' is deprecated in 1.6 and has no effect. It will be removed in version 1.8.\n",
            "  warnings.warn(\n"
          ]
        },
        {
          "output_type": "stream",
          "name": "stdout",
          "text": [
            "[CV] END algorithm=SAMME, learning_rate=0.2, n_estimators=200; total time=   0.2s\n",
            "[CV] END algorithm=SAMME, learning_rate=0.003, n_estimators=50; total time=   0.1s\n",
            "[CV] END algorithm=SAMME, learning_rate=0.003, n_estimators=50; total time=   0.1s\n",
            "[CV] END algorithm=SAMME, learning_rate=0.003, n_estimators=50; total time=   0.1s\n"
          ]
        },
        {
          "output_type": "stream",
          "name": "stderr",
          "text": [
            "/usr/local/lib/python3.11/dist-packages/sklearn/ensemble/_weight_boosting.py:519: FutureWarning: The parameter 'algorithm' is deprecated in 1.6 and has no effect. It will be removed in version 1.8.\n",
            "  warnings.warn(\n",
            "/usr/local/lib/python3.11/dist-packages/sklearn/ensemble/_weight_boosting.py:519: FutureWarning: The parameter 'algorithm' is deprecated in 1.6 and has no effect. It will be removed in version 1.8.\n",
            "  warnings.warn(\n",
            "/usr/local/lib/python3.11/dist-packages/sklearn/ensemble/_weight_boosting.py:519: FutureWarning: The parameter 'algorithm' is deprecated in 1.6 and has no effect. It will be removed in version 1.8.\n",
            "  warnings.warn(\n",
            "/usr/local/lib/python3.11/dist-packages/sklearn/ensemble/_weight_boosting.py:519: FutureWarning: The parameter 'algorithm' is deprecated in 1.6 and has no effect. It will be removed in version 1.8.\n",
            "  warnings.warn(\n"
          ]
        },
        {
          "output_type": "stream",
          "name": "stdout",
          "text": [
            "[CV] END algorithm=SAMME, learning_rate=0.003, n_estimators=50; total time=   0.1s\n",
            "[CV] END algorithm=SAMME, learning_rate=0.003, n_estimators=50; total time=   0.1s\n",
            "[CV] END algorithm=SAMME, learning_rate=0.003, n_estimators=100; total time=   0.1s\n"
          ]
        },
        {
          "output_type": "stream",
          "name": "stderr",
          "text": [
            "/usr/local/lib/python3.11/dist-packages/sklearn/ensemble/_weight_boosting.py:519: FutureWarning: The parameter 'algorithm' is deprecated in 1.6 and has no effect. It will be removed in version 1.8.\n",
            "  warnings.warn(\n",
            "/usr/local/lib/python3.11/dist-packages/sklearn/ensemble/_weight_boosting.py:519: FutureWarning: The parameter 'algorithm' is deprecated in 1.6 and has no effect. It will be removed in version 1.8.\n",
            "  warnings.warn(\n",
            "/usr/local/lib/python3.11/dist-packages/sklearn/ensemble/_weight_boosting.py:519: FutureWarning: The parameter 'algorithm' is deprecated in 1.6 and has no effect. It will be removed in version 1.8.\n",
            "  warnings.warn(\n"
          ]
        },
        {
          "output_type": "stream",
          "name": "stdout",
          "text": [
            "[CV] END algorithm=SAMME, learning_rate=0.003, n_estimators=100; total time=   0.1s\n",
            "[CV] END algorithm=SAMME, learning_rate=0.003, n_estimators=100; total time=   0.1s\n"
          ]
        },
        {
          "output_type": "stream",
          "name": "stderr",
          "text": [
            "/usr/local/lib/python3.11/dist-packages/sklearn/ensemble/_weight_boosting.py:519: FutureWarning: The parameter 'algorithm' is deprecated in 1.6 and has no effect. It will be removed in version 1.8.\n",
            "  warnings.warn(\n",
            "/usr/local/lib/python3.11/dist-packages/sklearn/ensemble/_weight_boosting.py:519: FutureWarning: The parameter 'algorithm' is deprecated in 1.6 and has no effect. It will be removed in version 1.8.\n",
            "  warnings.warn(\n"
          ]
        },
        {
          "output_type": "stream",
          "name": "stdout",
          "text": [
            "[CV] END algorithm=SAMME, learning_rate=0.003, n_estimators=100; total time=   0.1s\n",
            "[CV] END algorithm=SAMME, learning_rate=0.003, n_estimators=100; total time=   0.1s\n",
            "[CV] END algorithm=SAMME, learning_rate=0.003, n_estimators=40; total time=   0.1s\n"
          ]
        },
        {
          "output_type": "stream",
          "name": "stderr",
          "text": [
            "/usr/local/lib/python3.11/dist-packages/sklearn/ensemble/_weight_boosting.py:519: FutureWarning: The parameter 'algorithm' is deprecated in 1.6 and has no effect. It will be removed in version 1.8.\n",
            "  warnings.warn(\n",
            "/usr/local/lib/python3.11/dist-packages/sklearn/ensemble/_weight_boosting.py:519: FutureWarning: The parameter 'algorithm' is deprecated in 1.6 and has no effect. It will be removed in version 1.8.\n",
            "  warnings.warn(\n",
            "/usr/local/lib/python3.11/dist-packages/sklearn/ensemble/_weight_boosting.py:519: FutureWarning: The parameter 'algorithm' is deprecated in 1.6 and has no effect. It will be removed in version 1.8.\n",
            "  warnings.warn(\n"
          ]
        },
        {
          "output_type": "stream",
          "name": "stdout",
          "text": [
            "[CV] END algorithm=SAMME, learning_rate=0.003, n_estimators=40; total time=   0.1s\n",
            "[CV] END algorithm=SAMME, learning_rate=0.003, n_estimators=40; total time=   0.0s\n",
            "[CV] END algorithm=SAMME, learning_rate=0.003, n_estimators=40; total time=   0.0s\n",
            "[CV] END algorithm=SAMME, learning_rate=0.003, n_estimators=40; total time=   0.0s\n"
          ]
        },
        {
          "output_type": "stream",
          "name": "stderr",
          "text": [
            "/usr/local/lib/python3.11/dist-packages/sklearn/ensemble/_weight_boosting.py:519: FutureWarning: The parameter 'algorithm' is deprecated in 1.6 and has no effect. It will be removed in version 1.8.\n",
            "  warnings.warn(\n",
            "/usr/local/lib/python3.11/dist-packages/sklearn/ensemble/_weight_boosting.py:519: FutureWarning: The parameter 'algorithm' is deprecated in 1.6 and has no effect. It will be removed in version 1.8.\n",
            "  warnings.warn(\n",
            "/usr/local/lib/python3.11/dist-packages/sklearn/ensemble/_weight_boosting.py:519: FutureWarning: The parameter 'algorithm' is deprecated in 1.6 and has no effect. It will be removed in version 1.8.\n",
            "  warnings.warn(\n",
            "/usr/local/lib/python3.11/dist-packages/sklearn/ensemble/_weight_boosting.py:519: FutureWarning: The parameter 'algorithm' is deprecated in 1.6 and has no effect. It will be removed in version 1.8.\n",
            "  warnings.warn(\n"
          ]
        },
        {
          "output_type": "stream",
          "name": "stdout",
          "text": [
            "[CV] END algorithm=SAMME, learning_rate=0.003, n_estimators=200; total time=   0.3s\n"
          ]
        },
        {
          "output_type": "stream",
          "name": "stderr",
          "text": [
            "/usr/local/lib/python3.11/dist-packages/sklearn/ensemble/_weight_boosting.py:519: FutureWarning: The parameter 'algorithm' is deprecated in 1.6 and has no effect. It will be removed in version 1.8.\n",
            "  warnings.warn(\n"
          ]
        },
        {
          "output_type": "stream",
          "name": "stdout",
          "text": [
            "[CV] END algorithm=SAMME, learning_rate=0.003, n_estimators=200; total time=   0.3s\n"
          ]
        },
        {
          "output_type": "stream",
          "name": "stderr",
          "text": [
            "/usr/local/lib/python3.11/dist-packages/sklearn/ensemble/_weight_boosting.py:519: FutureWarning: The parameter 'algorithm' is deprecated in 1.6 and has no effect. It will be removed in version 1.8.\n",
            "  warnings.warn(\n"
          ]
        },
        {
          "output_type": "stream",
          "name": "stdout",
          "text": [
            "[CV] END algorithm=SAMME, learning_rate=0.003, n_estimators=200; total time=   0.3s\n"
          ]
        },
        {
          "output_type": "stream",
          "name": "stderr",
          "text": [
            "/usr/local/lib/python3.11/dist-packages/sklearn/ensemble/_weight_boosting.py:519: FutureWarning: The parameter 'algorithm' is deprecated in 1.6 and has no effect. It will be removed in version 1.8.\n",
            "  warnings.warn(\n"
          ]
        },
        {
          "output_type": "stream",
          "name": "stdout",
          "text": [
            "[CV] END algorithm=SAMME, learning_rate=0.003, n_estimators=200; total time=   0.4s\n"
          ]
        },
        {
          "output_type": "stream",
          "name": "stderr",
          "text": [
            "/usr/local/lib/python3.11/dist-packages/sklearn/ensemble/_weight_boosting.py:519: FutureWarning: The parameter 'algorithm' is deprecated in 1.6 and has no effect. It will be removed in version 1.8.\n",
            "  warnings.warn(\n"
          ]
        },
        {
          "output_type": "stream",
          "name": "stdout",
          "text": [
            "[CV] END algorithm=SAMME, learning_rate=0.003, n_estimators=200; total time=   0.3s\n",
            "[CV] END algorithm=SAMME, learning_rate=0.1, n_estimators=50; total time=   0.1s\n",
            "[CV] END algorithm=SAMME, learning_rate=0.1, n_estimators=50; total time=   0.1s\n",
            "[CV] END algorithm=SAMME, learning_rate=0.1, n_estimators=50; total time=   0.1s\n"
          ]
        },
        {
          "output_type": "stream",
          "name": "stderr",
          "text": [
            "/usr/local/lib/python3.11/dist-packages/sklearn/ensemble/_weight_boosting.py:519: FutureWarning: The parameter 'algorithm' is deprecated in 1.6 and has no effect. It will be removed in version 1.8.\n",
            "  warnings.warn(\n",
            "/usr/local/lib/python3.11/dist-packages/sklearn/ensemble/_weight_boosting.py:519: FutureWarning: The parameter 'algorithm' is deprecated in 1.6 and has no effect. It will be removed in version 1.8.\n",
            "  warnings.warn(\n",
            "/usr/local/lib/python3.11/dist-packages/sklearn/ensemble/_weight_boosting.py:519: FutureWarning: The parameter 'algorithm' is deprecated in 1.6 and has no effect. It will be removed in version 1.8.\n",
            "  warnings.warn(\n",
            "/usr/local/lib/python3.11/dist-packages/sklearn/ensemble/_weight_boosting.py:519: FutureWarning: The parameter 'algorithm' is deprecated in 1.6 and has no effect. It will be removed in version 1.8.\n",
            "  warnings.warn(\n"
          ]
        },
        {
          "output_type": "stream",
          "name": "stdout",
          "text": [
            "[CV] END algorithm=SAMME, learning_rate=0.1, n_estimators=50; total time=   0.1s\n",
            "[CV] END algorithm=SAMME, learning_rate=0.1, n_estimators=50; total time=   0.1s\n",
            "[CV] END algorithm=SAMME, learning_rate=0.1, n_estimators=100; total time=   0.1s\n"
          ]
        },
        {
          "output_type": "stream",
          "name": "stderr",
          "text": [
            "/usr/local/lib/python3.11/dist-packages/sklearn/ensemble/_weight_boosting.py:519: FutureWarning: The parameter 'algorithm' is deprecated in 1.6 and has no effect. It will be removed in version 1.8.\n",
            "  warnings.warn(\n",
            "/usr/local/lib/python3.11/dist-packages/sklearn/ensemble/_weight_boosting.py:519: FutureWarning: The parameter 'algorithm' is deprecated in 1.6 and has no effect. It will be removed in version 1.8.\n",
            "  warnings.warn(\n",
            "/usr/local/lib/python3.11/dist-packages/sklearn/ensemble/_weight_boosting.py:519: FutureWarning: The parameter 'algorithm' is deprecated in 1.6 and has no effect. It will be removed in version 1.8.\n",
            "  warnings.warn(\n"
          ]
        },
        {
          "output_type": "stream",
          "name": "stdout",
          "text": [
            "[CV] END algorithm=SAMME, learning_rate=0.1, n_estimators=100; total time=   0.1s\n",
            "[CV] END algorithm=SAMME, learning_rate=0.1, n_estimators=100; total time=   0.1s\n"
          ]
        },
        {
          "output_type": "stream",
          "name": "stderr",
          "text": [
            "/usr/local/lib/python3.11/dist-packages/sklearn/ensemble/_weight_boosting.py:519: FutureWarning: The parameter 'algorithm' is deprecated in 1.6 and has no effect. It will be removed in version 1.8.\n",
            "  warnings.warn(\n",
            "/usr/local/lib/python3.11/dist-packages/sklearn/ensemble/_weight_boosting.py:519: FutureWarning: The parameter 'algorithm' is deprecated in 1.6 and has no effect. It will be removed in version 1.8.\n",
            "  warnings.warn(\n"
          ]
        },
        {
          "output_type": "stream",
          "name": "stdout",
          "text": [
            "[CV] END algorithm=SAMME, learning_rate=0.1, n_estimators=100; total time=   0.1s\n",
            "[CV] END algorithm=SAMME, learning_rate=0.1, n_estimators=100; total time=   0.1s\n",
            "[CV] END algorithm=SAMME, learning_rate=0.1, n_estimators=40; total time=   0.1s\n"
          ]
        },
        {
          "output_type": "stream",
          "name": "stderr",
          "text": [
            "/usr/local/lib/python3.11/dist-packages/sklearn/ensemble/_weight_boosting.py:519: FutureWarning: The parameter 'algorithm' is deprecated in 1.6 and has no effect. It will be removed in version 1.8.\n",
            "  warnings.warn(\n",
            "/usr/local/lib/python3.11/dist-packages/sklearn/ensemble/_weight_boosting.py:519: FutureWarning: The parameter 'algorithm' is deprecated in 1.6 and has no effect. It will be removed in version 1.8.\n",
            "  warnings.warn(\n",
            "/usr/local/lib/python3.11/dist-packages/sklearn/ensemble/_weight_boosting.py:519: FutureWarning: The parameter 'algorithm' is deprecated in 1.6 and has no effect. It will be removed in version 1.8.\n",
            "  warnings.warn(\n"
          ]
        },
        {
          "output_type": "stream",
          "name": "stdout",
          "text": [
            "[CV] END algorithm=SAMME, learning_rate=0.1, n_estimators=40; total time=   0.1s\n",
            "[CV] END algorithm=SAMME, learning_rate=0.1, n_estimators=40; total time=   0.0s\n",
            "[CV] END algorithm=SAMME, learning_rate=0.1, n_estimators=40; total time=   0.1s\n",
            "[CV] END algorithm=SAMME, learning_rate=0.1, n_estimators=40; total time=   0.1s\n"
          ]
        },
        {
          "output_type": "stream",
          "name": "stderr",
          "text": [
            "/usr/local/lib/python3.11/dist-packages/sklearn/ensemble/_weight_boosting.py:519: FutureWarning: The parameter 'algorithm' is deprecated in 1.6 and has no effect. It will be removed in version 1.8.\n",
            "  warnings.warn(\n",
            "/usr/local/lib/python3.11/dist-packages/sklearn/ensemble/_weight_boosting.py:519: FutureWarning: The parameter 'algorithm' is deprecated in 1.6 and has no effect. It will be removed in version 1.8.\n",
            "  warnings.warn(\n",
            "/usr/local/lib/python3.11/dist-packages/sklearn/ensemble/_weight_boosting.py:519: FutureWarning: The parameter 'algorithm' is deprecated in 1.6 and has no effect. It will be removed in version 1.8.\n",
            "  warnings.warn(\n",
            "/usr/local/lib/python3.11/dist-packages/sklearn/ensemble/_weight_boosting.py:519: FutureWarning: The parameter 'algorithm' is deprecated in 1.6 and has no effect. It will be removed in version 1.8.\n",
            "  warnings.warn(\n"
          ]
        },
        {
          "output_type": "stream",
          "name": "stdout",
          "text": [
            "[CV] END algorithm=SAMME, learning_rate=0.1, n_estimators=200; total time=   0.3s\n"
          ]
        },
        {
          "output_type": "stream",
          "name": "stderr",
          "text": [
            "/usr/local/lib/python3.11/dist-packages/sklearn/ensemble/_weight_boosting.py:519: FutureWarning: The parameter 'algorithm' is deprecated in 1.6 and has no effect. It will be removed in version 1.8.\n",
            "  warnings.warn(\n"
          ]
        },
        {
          "output_type": "stream",
          "name": "stdout",
          "text": [
            "[CV] END algorithm=SAMME, learning_rate=0.1, n_estimators=200; total time=   0.2s\n"
          ]
        },
        {
          "output_type": "stream",
          "name": "stderr",
          "text": [
            "/usr/local/lib/python3.11/dist-packages/sklearn/ensemble/_weight_boosting.py:519: FutureWarning: The parameter 'algorithm' is deprecated in 1.6 and has no effect. It will be removed in version 1.8.\n",
            "  warnings.warn(\n"
          ]
        },
        {
          "output_type": "stream",
          "name": "stdout",
          "text": [
            "[CV] END algorithm=SAMME, learning_rate=0.1, n_estimators=200; total time=   0.2s\n"
          ]
        },
        {
          "output_type": "stream",
          "name": "stderr",
          "text": [
            "/usr/local/lib/python3.11/dist-packages/sklearn/ensemble/_weight_boosting.py:519: FutureWarning: The parameter 'algorithm' is deprecated in 1.6 and has no effect. It will be removed in version 1.8.\n",
            "  warnings.warn(\n"
          ]
        },
        {
          "output_type": "stream",
          "name": "stdout",
          "text": [
            "[CV] END algorithm=SAMME, learning_rate=0.1, n_estimators=200; total time=   0.2s\n"
          ]
        },
        {
          "output_type": "stream",
          "name": "stderr",
          "text": [
            "/usr/local/lib/python3.11/dist-packages/sklearn/ensemble/_weight_boosting.py:519: FutureWarning: The parameter 'algorithm' is deprecated in 1.6 and has no effect. It will be removed in version 1.8.\n",
            "  warnings.warn(\n"
          ]
        },
        {
          "output_type": "stream",
          "name": "stdout",
          "text": [
            "[CV] END algorithm=SAMME, learning_rate=0.1, n_estimators=200; total time=   0.2s\n",
            "[CV] END ..algorithm=SAMME, learning_rate=2, n_estimators=50; total time=   0.1s\n",
            "[CV] END ..algorithm=SAMME, learning_rate=2, n_estimators=50; total time=   0.1s\n",
            "[CV] END ..algorithm=SAMME, learning_rate=2, n_estimators=50; total time=   0.1s\n"
          ]
        },
        {
          "output_type": "stream",
          "name": "stderr",
          "text": [
            "/usr/local/lib/python3.11/dist-packages/sklearn/ensemble/_weight_boosting.py:519: FutureWarning: The parameter 'algorithm' is deprecated in 1.6 and has no effect. It will be removed in version 1.8.\n",
            "  warnings.warn(\n",
            "/usr/local/lib/python3.11/dist-packages/sklearn/ensemble/_weight_boosting.py:519: FutureWarning: The parameter 'algorithm' is deprecated in 1.6 and has no effect. It will be removed in version 1.8.\n",
            "  warnings.warn(\n",
            "/usr/local/lib/python3.11/dist-packages/sklearn/ensemble/_weight_boosting.py:519: FutureWarning: The parameter 'algorithm' is deprecated in 1.6 and has no effect. It will be removed in version 1.8.\n",
            "  warnings.warn(\n",
            "/usr/local/lib/python3.11/dist-packages/sklearn/ensemble/_weight_boosting.py:519: FutureWarning: The parameter 'algorithm' is deprecated in 1.6 and has no effect. It will be removed in version 1.8.\n",
            "  warnings.warn(\n"
          ]
        },
        {
          "output_type": "stream",
          "name": "stdout",
          "text": [
            "[CV] END ..algorithm=SAMME, learning_rate=2, n_estimators=50; total time=   0.1s\n",
            "[CV] END ..algorithm=SAMME, learning_rate=2, n_estimators=50; total time=   0.1s\n",
            "[CV] END .algorithm=SAMME, learning_rate=2, n_estimators=100; total time=   0.1s\n"
          ]
        },
        {
          "output_type": "stream",
          "name": "stderr",
          "text": [
            "/usr/local/lib/python3.11/dist-packages/sklearn/ensemble/_weight_boosting.py:519: FutureWarning: The parameter 'algorithm' is deprecated in 1.6 and has no effect. It will be removed in version 1.8.\n",
            "  warnings.warn(\n",
            "/usr/local/lib/python3.11/dist-packages/sklearn/ensemble/_weight_boosting.py:519: FutureWarning: The parameter 'algorithm' is deprecated in 1.6 and has no effect. It will be removed in version 1.8.\n",
            "  warnings.warn(\n",
            "/usr/local/lib/python3.11/dist-packages/sklearn/ensemble/_weight_boosting.py:519: FutureWarning: The parameter 'algorithm' is deprecated in 1.6 and has no effect. It will be removed in version 1.8.\n",
            "  warnings.warn(\n"
          ]
        },
        {
          "output_type": "stream",
          "name": "stdout",
          "text": [
            "[CV] END .algorithm=SAMME, learning_rate=2, n_estimators=100; total time=   0.1s\n",
            "[CV] END .algorithm=SAMME, learning_rate=2, n_estimators=100; total time=   0.1s\n"
          ]
        },
        {
          "output_type": "stream",
          "name": "stderr",
          "text": [
            "/usr/local/lib/python3.11/dist-packages/sklearn/ensemble/_weight_boosting.py:519: FutureWarning: The parameter 'algorithm' is deprecated in 1.6 and has no effect. It will be removed in version 1.8.\n",
            "  warnings.warn(\n",
            "/usr/local/lib/python3.11/dist-packages/sklearn/ensemble/_weight_boosting.py:519: FutureWarning: The parameter 'algorithm' is deprecated in 1.6 and has no effect. It will be removed in version 1.8.\n",
            "  warnings.warn(\n"
          ]
        },
        {
          "output_type": "stream",
          "name": "stdout",
          "text": [
            "[CV] END .algorithm=SAMME, learning_rate=2, n_estimators=100; total time=   0.1s\n",
            "[CV] END .algorithm=SAMME, learning_rate=2, n_estimators=100; total time=   0.1s\n",
            "[CV] END ..algorithm=SAMME, learning_rate=2, n_estimators=40; total time=   0.0s\n"
          ]
        },
        {
          "output_type": "stream",
          "name": "stderr",
          "text": [
            "/usr/local/lib/python3.11/dist-packages/sklearn/ensemble/_weight_boosting.py:519: FutureWarning: The parameter 'algorithm' is deprecated in 1.6 and has no effect. It will be removed in version 1.8.\n",
            "  warnings.warn(\n",
            "/usr/local/lib/python3.11/dist-packages/sklearn/ensemble/_weight_boosting.py:519: FutureWarning: The parameter 'algorithm' is deprecated in 1.6 and has no effect. It will be removed in version 1.8.\n",
            "  warnings.warn(\n",
            "/usr/local/lib/python3.11/dist-packages/sklearn/ensemble/_weight_boosting.py:519: FutureWarning: The parameter 'algorithm' is deprecated in 1.6 and has no effect. It will be removed in version 1.8.\n",
            "  warnings.warn(\n"
          ]
        },
        {
          "output_type": "stream",
          "name": "stdout",
          "text": [
            "[CV] END ..algorithm=SAMME, learning_rate=2, n_estimators=40; total time=   0.1s\n",
            "[CV] END ..algorithm=SAMME, learning_rate=2, n_estimators=40; total time=   0.0s\n",
            "[CV] END ..algorithm=SAMME, learning_rate=2, n_estimators=40; total time=   0.1s\n",
            "[CV] END ..algorithm=SAMME, learning_rate=2, n_estimators=40; total time=   0.1s\n"
          ]
        },
        {
          "output_type": "stream",
          "name": "stderr",
          "text": [
            "/usr/local/lib/python3.11/dist-packages/sklearn/ensemble/_weight_boosting.py:519: FutureWarning: The parameter 'algorithm' is deprecated in 1.6 and has no effect. It will be removed in version 1.8.\n",
            "  warnings.warn(\n",
            "/usr/local/lib/python3.11/dist-packages/sklearn/ensemble/_weight_boosting.py:519: FutureWarning: The parameter 'algorithm' is deprecated in 1.6 and has no effect. It will be removed in version 1.8.\n",
            "  warnings.warn(\n",
            "/usr/local/lib/python3.11/dist-packages/sklearn/ensemble/_weight_boosting.py:519: FutureWarning: The parameter 'algorithm' is deprecated in 1.6 and has no effect. It will be removed in version 1.8.\n",
            "  warnings.warn(\n",
            "/usr/local/lib/python3.11/dist-packages/sklearn/ensemble/_weight_boosting.py:519: FutureWarning: The parameter 'algorithm' is deprecated in 1.6 and has no effect. It will be removed in version 1.8.\n",
            "  warnings.warn(\n"
          ]
        },
        {
          "output_type": "stream",
          "name": "stdout",
          "text": [
            "[CV] END .algorithm=SAMME, learning_rate=2, n_estimators=200; total time=   0.2s\n"
          ]
        },
        {
          "output_type": "stream",
          "name": "stderr",
          "text": [
            "/usr/local/lib/python3.11/dist-packages/sklearn/ensemble/_weight_boosting.py:519: FutureWarning: The parameter 'algorithm' is deprecated in 1.6 and has no effect. It will be removed in version 1.8.\n",
            "  warnings.warn(\n"
          ]
        },
        {
          "output_type": "stream",
          "name": "stdout",
          "text": [
            "[CV] END .algorithm=SAMME, learning_rate=2, n_estimators=200; total time=   0.2s\n"
          ]
        },
        {
          "output_type": "stream",
          "name": "stderr",
          "text": [
            "/usr/local/lib/python3.11/dist-packages/sklearn/ensemble/_weight_boosting.py:519: FutureWarning: The parameter 'algorithm' is deprecated in 1.6 and has no effect. It will be removed in version 1.8.\n",
            "  warnings.warn(\n"
          ]
        },
        {
          "output_type": "stream",
          "name": "stdout",
          "text": [
            "[CV] END .algorithm=SAMME, learning_rate=2, n_estimators=200; total time=   0.2s\n"
          ]
        },
        {
          "output_type": "stream",
          "name": "stderr",
          "text": [
            "/usr/local/lib/python3.11/dist-packages/sklearn/ensemble/_weight_boosting.py:519: FutureWarning: The parameter 'algorithm' is deprecated in 1.6 and has no effect. It will be removed in version 1.8.\n",
            "  warnings.warn(\n"
          ]
        },
        {
          "output_type": "stream",
          "name": "stdout",
          "text": [
            "[CV] END .algorithm=SAMME, learning_rate=2, n_estimators=200; total time=   0.3s\n"
          ]
        },
        {
          "output_type": "stream",
          "name": "stderr",
          "text": [
            "/usr/local/lib/python3.11/dist-packages/sklearn/ensemble/_weight_boosting.py:519: FutureWarning: The parameter 'algorithm' is deprecated in 1.6 and has no effect. It will be removed in version 1.8.\n",
            "  warnings.warn(\n"
          ]
        },
        {
          "output_type": "stream",
          "name": "stdout",
          "text": [
            "[CV] END .algorithm=SAMME, learning_rate=2, n_estimators=200; total time=   0.4s\n",
            "[CV] END algorithm=SAMME.R, learning_rate=0.2, n_estimators=50; total time=   0.0s\n",
            "[CV] END algorithm=SAMME.R, learning_rate=0.2, n_estimators=50; total time=   0.0s\n",
            "[CV] END algorithm=SAMME.R, learning_rate=0.2, n_estimators=50; total time=   0.0s\n",
            "[CV] END algorithm=SAMME.R, learning_rate=0.2, n_estimators=50; total time=   0.0s\n",
            "[CV] END algorithm=SAMME.R, learning_rate=0.2, n_estimators=50; total time=   0.0s\n",
            "[CV] END algorithm=SAMME.R, learning_rate=0.2, n_estimators=100; total time=   0.0s\n",
            "[CV] END algorithm=SAMME.R, learning_rate=0.2, n_estimators=100; total time=   0.0s\n",
            "[CV] END algorithm=SAMME.R, learning_rate=0.2, n_estimators=100; total time=   0.0s\n",
            "[CV] END algorithm=SAMME.R, learning_rate=0.2, n_estimators=100; total time=   0.0s\n",
            "[CV] END algorithm=SAMME.R, learning_rate=0.2, n_estimators=100; total time=   0.0s\n",
            "[CV] END algorithm=SAMME.R, learning_rate=0.2, n_estimators=40; total time=   0.0s\n",
            "[CV] END algorithm=SAMME.R, learning_rate=0.2, n_estimators=40; total time=   0.0s\n",
            "[CV] END algorithm=SAMME.R, learning_rate=0.2, n_estimators=40; total time=   0.0s\n",
            "[CV] END algorithm=SAMME.R, learning_rate=0.2, n_estimators=40; total time=   0.0s\n",
            "[CV] END algorithm=SAMME.R, learning_rate=0.2, n_estimators=40; total time=   0.0s\n",
            "[CV] END algorithm=SAMME.R, learning_rate=0.2, n_estimators=200; total time=   0.0s\n",
            "[CV] END algorithm=SAMME.R, learning_rate=0.2, n_estimators=200; total time=   0.0s\n",
            "[CV] END algorithm=SAMME.R, learning_rate=0.2, n_estimators=200; total time=   0.0s\n",
            "[CV] END algorithm=SAMME.R, learning_rate=0.2, n_estimators=200; total time=   0.0s\n",
            "[CV] END algorithm=SAMME.R, learning_rate=0.2, n_estimators=200; total time=   0.0s\n",
            "[CV] END algorithm=SAMME.R, learning_rate=0.003, n_estimators=50; total time=   0.0s\n",
            "[CV] END algorithm=SAMME.R, learning_rate=0.003, n_estimators=50; total time=   0.0s\n",
            "[CV] END algorithm=SAMME.R, learning_rate=0.003, n_estimators=50; total time=   0.0s\n",
            "[CV] END algorithm=SAMME.R, learning_rate=0.003, n_estimators=50; total time=   0.0s\n",
            "[CV] END algorithm=SAMME.R, learning_rate=0.003, n_estimators=50; total time=   0.0s\n",
            "[CV] END algorithm=SAMME.R, learning_rate=0.003, n_estimators=100; total time=   0.0s\n",
            "[CV] END algorithm=SAMME.R, learning_rate=0.003, n_estimators=100; total time=   0.0s\n",
            "[CV] END algorithm=SAMME.R, learning_rate=0.003, n_estimators=100; total time=   0.0s\n",
            "[CV] END algorithm=SAMME.R, learning_rate=0.003, n_estimators=100; total time=   0.0s\n",
            "[CV] END algorithm=SAMME.R, learning_rate=0.003, n_estimators=100; total time=   0.0s\n",
            "[CV] END algorithm=SAMME.R, learning_rate=0.003, n_estimators=40; total time=   0.0s\n",
            "[CV] END algorithm=SAMME.R, learning_rate=0.003, n_estimators=40; total time=   0.0s\n",
            "[CV] END algorithm=SAMME.R, learning_rate=0.003, n_estimators=40; total time=   0.0s\n",
            "[CV] END algorithm=SAMME.R, learning_rate=0.003, n_estimators=40; total time=   0.0s\n",
            "[CV] END algorithm=SAMME.R, learning_rate=0.003, n_estimators=40; total time=   0.0s\n",
            "[CV] END algorithm=SAMME.R, learning_rate=0.003, n_estimators=200; total time=   0.0s\n",
            "[CV] END algorithm=SAMME.R, learning_rate=0.003, n_estimators=200; total time=   0.0s\n",
            "[CV] END algorithm=SAMME.R, learning_rate=0.003, n_estimators=200; total time=   0.0s\n",
            "[CV] END algorithm=SAMME.R, learning_rate=0.003, n_estimators=200; total time=   0.0s\n",
            "[CV] END algorithm=SAMME.R, learning_rate=0.003, n_estimators=200; total time=   0.0s\n",
            "[CV] END algorithm=SAMME.R, learning_rate=0.1, n_estimators=50; total time=   0.0s\n",
            "[CV] END algorithm=SAMME.R, learning_rate=0.1, n_estimators=50; total time=   0.0s\n",
            "[CV] END algorithm=SAMME.R, learning_rate=0.1, n_estimators=50; total time=   0.0s\n",
            "[CV] END algorithm=SAMME.R, learning_rate=0.1, n_estimators=50; total time=   0.0s\n",
            "[CV] END algorithm=SAMME.R, learning_rate=0.1, n_estimators=50; total time=   0.0s\n",
            "[CV] END algorithm=SAMME.R, learning_rate=0.1, n_estimators=100; total time=   0.0s\n",
            "[CV] END algorithm=SAMME.R, learning_rate=0.1, n_estimators=100; total time=   0.0s\n",
            "[CV] END algorithm=SAMME.R, learning_rate=0.1, n_estimators=100; total time=   0.0s\n",
            "[CV] END algorithm=SAMME.R, learning_rate=0.1, n_estimators=100; total time=   0.0s\n",
            "[CV] END algorithm=SAMME.R, learning_rate=0.1, n_estimators=100; total time=   0.0s\n",
            "[CV] END algorithm=SAMME.R, learning_rate=0.1, n_estimators=40; total time=   0.0s\n",
            "[CV] END algorithm=SAMME.R, learning_rate=0.1, n_estimators=40; total time=   0.0s\n",
            "[CV] END algorithm=SAMME.R, learning_rate=0.1, n_estimators=40; total time=   0.0s\n",
            "[CV] END algorithm=SAMME.R, learning_rate=0.1, n_estimators=40; total time=   0.0s\n",
            "[CV] END algorithm=SAMME.R, learning_rate=0.1, n_estimators=40; total time=   0.0s\n",
            "[CV] END algorithm=SAMME.R, learning_rate=0.1, n_estimators=200; total time=   0.0s\n",
            "[CV] END algorithm=SAMME.R, learning_rate=0.1, n_estimators=200; total time=   0.0s\n",
            "[CV] END algorithm=SAMME.R, learning_rate=0.1, n_estimators=200; total time=   0.0s\n",
            "[CV] END algorithm=SAMME.R, learning_rate=0.1, n_estimators=200; total time=   0.0s\n",
            "[CV] END algorithm=SAMME.R, learning_rate=0.1, n_estimators=200; total time=   0.0s\n",
            "[CV] END algorithm=SAMME.R, learning_rate=2, n_estimators=50; total time=   0.0s\n",
            "[CV] END algorithm=SAMME.R, learning_rate=2, n_estimators=50; total time=   0.0s\n",
            "[CV] END algorithm=SAMME.R, learning_rate=2, n_estimators=50; total time=   0.0s\n",
            "[CV] END algorithm=SAMME.R, learning_rate=2, n_estimators=50; total time=   0.0s\n",
            "[CV] END algorithm=SAMME.R, learning_rate=2, n_estimators=50; total time=   0.0s\n",
            "[CV] END algorithm=SAMME.R, learning_rate=2, n_estimators=100; total time=   0.0s\n",
            "[CV] END algorithm=SAMME.R, learning_rate=2, n_estimators=100; total time=   0.0s\n",
            "[CV] END algorithm=SAMME.R, learning_rate=2, n_estimators=100; total time=   0.0s\n",
            "[CV] END algorithm=SAMME.R, learning_rate=2, n_estimators=100; total time=   0.0s\n",
            "[CV] END algorithm=SAMME.R, learning_rate=2, n_estimators=100; total time=   0.0s\n",
            "[CV] END algorithm=SAMME.R, learning_rate=2, n_estimators=40; total time=   0.0s\n",
            "[CV] END algorithm=SAMME.R, learning_rate=2, n_estimators=40; total time=   0.0s\n",
            "[CV] END algorithm=SAMME.R, learning_rate=2, n_estimators=40; total time=   0.0s\n",
            "[CV] END algorithm=SAMME.R, learning_rate=2, n_estimators=40; total time=   0.0s\n",
            "[CV] END algorithm=SAMME.R, learning_rate=2, n_estimators=40; total time=   0.0s\n",
            "[CV] END algorithm=SAMME.R, learning_rate=2, n_estimators=200; total time=   0.0s\n",
            "[CV] END algorithm=SAMME.R, learning_rate=2, n_estimators=200; total time=   0.0s\n",
            "[CV] END algorithm=SAMME.R, learning_rate=2, n_estimators=200; total time=   0.0s\n",
            "[CV] END algorithm=SAMME.R, learning_rate=2, n_estimators=200; total time=   0.0s\n",
            "[CV] END algorithm=SAMME.R, learning_rate=2, n_estimators=200; total time=   0.0s\n",
            "0.9666666666666667\n"
          ]
        },
        {
          "output_type": "stream",
          "name": "stderr",
          "text": [
            "/usr/local/lib/python3.11/dist-packages/sklearn/model_selection/_validation.py:516: FitFailedWarning: \n",
            "80 fits failed out of a total of 160.\n",
            "The score on these train-test partitions for these parameters will be set to nan.\n",
            "If these failures are not expected, you can try to debug them by setting error_score='raise'.\n",
            "\n",
            "Below are more details about the failures:\n",
            "--------------------------------------------------------------------------------\n",
            "80 fits failed with the following error:\n",
            "Traceback (most recent call last):\n",
            "  File \"/usr/local/lib/python3.11/dist-packages/sklearn/model_selection/_validation.py\", line 859, in _fit_and_score\n",
            "    estimator.fit(X_train, y_train, **fit_params)\n",
            "  File \"/usr/local/lib/python3.11/dist-packages/sklearn/base.py\", line 1356, in wrapper\n",
            "    estimator._validate_params()\n",
            "  File \"/usr/local/lib/python3.11/dist-packages/sklearn/base.py\", line 469, in _validate_params\n",
            "    validate_parameter_constraints(\n",
            "  File \"/usr/local/lib/python3.11/dist-packages/sklearn/utils/_param_validation.py\", line 98, in validate_parameter_constraints\n",
            "    raise InvalidParameterError(\n",
            "sklearn.utils._param_validation.InvalidParameterError: The 'algorithm' parameter of AdaBoostClassifier must be a str among {'SAMME'}. Got 'SAMME.R' instead.\n",
            "\n",
            "  warnings.warn(some_fits_failed_message, FitFailedWarning)\n",
            "/usr/local/lib/python3.11/dist-packages/sklearn/model_selection/_search.py:1135: UserWarning: One or more of the test scores are non-finite: [0.95833333 0.94166667 0.94166667 0.94166667 0.69166667 0.69166667\n",
            " 0.69166667 0.725      0.95       0.95       0.94166667 0.94166667\n",
            " 0.9        0.9        0.9        0.88333333        nan        nan\n",
            "        nan        nan        nan        nan        nan        nan\n",
            "        nan        nan        nan        nan        nan        nan\n",
            "        nan        nan]\n",
            "  warnings.warn(\n",
            "/usr/local/lib/python3.11/dist-packages/sklearn/ensemble/_weight_boosting.py:519: FutureWarning: The parameter 'algorithm' is deprecated in 1.6 and has no effect. It will be removed in version 1.8.\n",
            "  warnings.warn(\n"
          ]
        }
      ]
    },
    {
      "cell_type": "code",
      "source": [
        "#2. Train an AdaBoost Regressor and evaluate performance using Mean Absolute Error (MAE)\n",
        "import pandas as pd\n",
        "from sklearn.datasets import load_iris\n",
        "data= load_iris()\n",
        "df= pd.DataFrame(data.data,columns= data.feature_names)\n",
        "df[\"target\"]= data.target\n",
        "x= df.iloc[:,:-1]\n",
        "y= df[\"target\"]\n",
        "\n",
        "\n",
        "from sklearn.model_selection import train_test_split\n",
        "x_train,x_test,y_train,y_test =  train_test_split(x,y , test_size= 0.2, random_state= 1)\n",
        "\n",
        "\n",
        "from sklearn.ensemble import AdaBoostRegressor\n",
        "ada_clf = AdaBoostRegressor()\n",
        "ada_clf.fit(x_train,y_train)\n",
        "y_pred = ada_clf.predict(x_test)\n",
        "\n",
        "from sklearn.metrics import mean_absolute_error\n",
        "print( mean_absolute_error(y_test,y_pred))\n",
        "\n",
        "#hyperperameter tunning\n",
        "\n",
        "from sklearn.model_selection import GridSearchCV\n",
        "\n",
        "param_grid = {\"n_estimators\":[50,100,40,200],\n",
        "\n",
        "             \"loss\":[\"square\",\"exponential\",\"linear\"],\n",
        "              \"learning_rate\":[0.2,0.003,0.1,2]\n",
        "              }\n",
        "\n",
        "model= GridSearchCV(estimator=ada_clf,param_grid =param_grid,cv=5,verbose = 2 )\n",
        "\n",
        "model.fit(x_train,y_train)\n",
        "y_pred_tunned =model.predict(x_test)\n",
        "\n",
        "from sklearn.metrics import mean_absolute_error\n",
        "print(mean_absolute_error(y_test,y_pred_tunned))\n",
        "\n"
      ],
      "metadata": {
        "colab": {
          "base_uri": "https://localhost:8080/"
        },
        "id": "BMpg5dhvf-JB",
        "outputId": "ec213ebb-9709-4b33-978f-06a252e44e31"
      },
      "execution_count": null,
      "outputs": [
        {
          "output_type": "stream",
          "name": "stdout",
          "text": [
            "0.05111749680715198\n",
            "Fitting 5 folds for each of 48 candidates, totalling 240 fits\n",
            "[CV] END ....learning_rate=0.2, loss=square, n_estimators=50; total time=   0.0s\n",
            "[CV] END ....learning_rate=0.2, loss=square, n_estimators=50; total time=   0.0s\n",
            "[CV] END ....learning_rate=0.2, loss=square, n_estimators=50; total time=   0.0s\n",
            "[CV] END ....learning_rate=0.2, loss=square, n_estimators=50; total time=   0.1s\n",
            "[CV] END ....learning_rate=0.2, loss=square, n_estimators=50; total time=   0.0s\n",
            "[CV] END ...learning_rate=0.2, loss=square, n_estimators=100; total time=   0.0s\n",
            "[CV] END ...learning_rate=0.2, loss=square, n_estimators=100; total time=   0.0s\n",
            "[CV] END ...learning_rate=0.2, loss=square, n_estimators=100; total time=   0.0s\n",
            "[CV] END ...learning_rate=0.2, loss=square, n_estimators=100; total time=   0.1s\n",
            "[CV] END ...learning_rate=0.2, loss=square, n_estimators=100; total time=   0.1s\n",
            "[CV] END ....learning_rate=0.2, loss=square, n_estimators=40; total time=   0.0s\n",
            "[CV] END ....learning_rate=0.2, loss=square, n_estimators=40; total time=   0.0s\n",
            "[CV] END ....learning_rate=0.2, loss=square, n_estimators=40; total time=   0.0s\n",
            "[CV] END ....learning_rate=0.2, loss=square, n_estimators=40; total time=   0.0s\n",
            "[CV] END ....learning_rate=0.2, loss=square, n_estimators=40; total time=   0.0s\n",
            "[CV] END ...learning_rate=0.2, loss=square, n_estimators=200; total time=   0.0s\n",
            "[CV] END ...learning_rate=0.2, loss=square, n_estimators=200; total time=   0.2s\n",
            "[CV] END ...learning_rate=0.2, loss=square, n_estimators=200; total time=   0.0s\n",
            "[CV] END ...learning_rate=0.2, loss=square, n_estimators=200; total time=   0.2s\n",
            "[CV] END ...learning_rate=0.2, loss=square, n_estimators=200; total time=   0.0s\n",
            "[CV] END learning_rate=0.2, loss=exponential, n_estimators=50; total time=   0.1s\n",
            "[CV] END learning_rate=0.2, loss=exponential, n_estimators=50; total time=   0.1s\n",
            "[CV] END learning_rate=0.2, loss=exponential, n_estimators=50; total time=   0.1s\n",
            "[CV] END learning_rate=0.2, loss=exponential, n_estimators=50; total time=   0.1s\n",
            "[CV] END learning_rate=0.2, loss=exponential, n_estimators=50; total time=   0.0s\n",
            "[CV] END learning_rate=0.2, loss=exponential, n_estimators=100; total time=   0.1s\n",
            "[CV] END learning_rate=0.2, loss=exponential, n_estimators=100; total time=   0.1s\n",
            "[CV] END learning_rate=0.2, loss=exponential, n_estimators=100; total time=   0.1s\n",
            "[CV] END learning_rate=0.2, loss=exponential, n_estimators=100; total time=   0.1s\n",
            "[CV] END learning_rate=0.2, loss=exponential, n_estimators=100; total time=   0.1s\n",
            "[CV] END learning_rate=0.2, loss=exponential, n_estimators=40; total time=   0.0s\n",
            "[CV] END learning_rate=0.2, loss=exponential, n_estimators=40; total time=   0.0s\n",
            "[CV] END learning_rate=0.2, loss=exponential, n_estimators=40; total time=   0.0s\n",
            "[CV] END learning_rate=0.2, loss=exponential, n_estimators=40; total time=   0.0s\n",
            "[CV] END learning_rate=0.2, loss=exponential, n_estimators=40; total time=   0.1s\n",
            "[CV] END learning_rate=0.2, loss=exponential, n_estimators=200; total time=   0.1s\n",
            "[CV] END learning_rate=0.2, loss=exponential, n_estimators=200; total time=   0.3s\n",
            "[CV] END learning_rate=0.2, loss=exponential, n_estimators=200; total time=   0.1s\n",
            "[CV] END learning_rate=0.2, loss=exponential, n_estimators=200; total time=   0.6s\n",
            "[CV] END learning_rate=0.2, loss=exponential, n_estimators=200; total time=   0.6s\n",
            "[CV] END ....learning_rate=0.2, loss=linear, n_estimators=50; total time=   0.3s\n",
            "[CV] END ....learning_rate=0.2, loss=linear, n_estimators=50; total time=   0.2s\n",
            "[CV] END ....learning_rate=0.2, loss=linear, n_estimators=50; total time=   0.1s\n",
            "[CV] END ....learning_rate=0.2, loss=linear, n_estimators=50; total time=   0.2s\n",
            "[CV] END ....learning_rate=0.2, loss=linear, n_estimators=50; total time=   0.1s\n",
            "[CV] END ...learning_rate=0.2, loss=linear, n_estimators=100; total time=   0.1s\n",
            "[CV] END ...learning_rate=0.2, loss=linear, n_estimators=100; total time=   0.1s\n",
            "[CV] END ...learning_rate=0.2, loss=linear, n_estimators=100; total time=   0.1s\n",
            "[CV] END ...learning_rate=0.2, loss=linear, n_estimators=100; total time=   0.1s\n",
            "[CV] END ...learning_rate=0.2, loss=linear, n_estimators=100; total time=   0.1s\n",
            "[CV] END ....learning_rate=0.2, loss=linear, n_estimators=40; total time=   0.1s\n",
            "[CV] END ....learning_rate=0.2, loss=linear, n_estimators=40; total time=   0.0s\n",
            "[CV] END ....learning_rate=0.2, loss=linear, n_estimators=40; total time=   0.1s\n",
            "[CV] END ....learning_rate=0.2, loss=linear, n_estimators=40; total time=   0.1s\n",
            "[CV] END ....learning_rate=0.2, loss=linear, n_estimators=40; total time=   0.1s\n",
            "[CV] END ...learning_rate=0.2, loss=linear, n_estimators=200; total time=   0.1s\n",
            "[CV] END ...learning_rate=0.2, loss=linear, n_estimators=200; total time=   0.1s\n",
            "[CV] END ...learning_rate=0.2, loss=linear, n_estimators=200; total time=   0.1s\n",
            "[CV] END ...learning_rate=0.2, loss=linear, n_estimators=200; total time=   0.3s\n",
            "[CV] END ...learning_rate=0.2, loss=linear, n_estimators=200; total time=   0.1s\n",
            "[CV] END ..learning_rate=0.003, loss=square, n_estimators=50; total time=   0.1s\n",
            "[CV] END ..learning_rate=0.003, loss=square, n_estimators=50; total time=   0.1s\n",
            "[CV] END ..learning_rate=0.003, loss=square, n_estimators=50; total time=   0.1s\n",
            "[CV] END ..learning_rate=0.003, loss=square, n_estimators=50; total time=   0.1s\n",
            "[CV] END ..learning_rate=0.003, loss=square, n_estimators=50; total time=   0.1s\n",
            "[CV] END .learning_rate=0.003, loss=square, n_estimators=100; total time=   0.2s\n",
            "[CV] END .learning_rate=0.003, loss=square, n_estimators=100; total time=   0.3s\n",
            "[CV] END .learning_rate=0.003, loss=square, n_estimators=100; total time=   0.1s\n",
            "[CV] END .learning_rate=0.003, loss=square, n_estimators=100; total time=   0.2s\n",
            "[CV] END .learning_rate=0.003, loss=square, n_estimators=100; total time=   0.1s\n",
            "[CV] END ..learning_rate=0.003, loss=square, n_estimators=40; total time=   0.0s\n",
            "[CV] END ..learning_rate=0.003, loss=square, n_estimators=40; total time=   0.0s\n",
            "[CV] END ..learning_rate=0.003, loss=square, n_estimators=40; total time=   0.0s\n",
            "[CV] END ..learning_rate=0.003, loss=square, n_estimators=40; total time=   0.0s\n",
            "[CV] END ..learning_rate=0.003, loss=square, n_estimators=40; total time=   0.0s\n",
            "[CV] END .learning_rate=0.003, loss=square, n_estimators=200; total time=   0.2s\n",
            "[CV] END .learning_rate=0.003, loss=square, n_estimators=200; total time=   0.2s\n",
            "[CV] END .learning_rate=0.003, loss=square, n_estimators=200; total time=   0.2s\n",
            "[CV] END .learning_rate=0.003, loss=square, n_estimators=200; total time=   0.2s\n",
            "[CV] END .learning_rate=0.003, loss=square, n_estimators=200; total time=   0.2s\n",
            "[CV] END learning_rate=0.003, loss=exponential, n_estimators=50; total time=   0.1s\n",
            "[CV] END learning_rate=0.003, loss=exponential, n_estimators=50; total time=   0.1s\n",
            "[CV] END learning_rate=0.003, loss=exponential, n_estimators=50; total time=   0.1s\n",
            "[CV] END learning_rate=0.003, loss=exponential, n_estimators=50; total time=   0.1s\n",
            "[CV] END learning_rate=0.003, loss=exponential, n_estimators=50; total time=   0.1s\n",
            "[CV] END learning_rate=0.003, loss=exponential, n_estimators=100; total time=   0.1s\n",
            "[CV] END learning_rate=0.003, loss=exponential, n_estimators=100; total time=   0.1s\n",
            "[CV] END learning_rate=0.003, loss=exponential, n_estimators=100; total time=   0.1s\n",
            "[CV] END learning_rate=0.003, loss=exponential, n_estimators=100; total time=   0.1s\n",
            "[CV] END learning_rate=0.003, loss=exponential, n_estimators=100; total time=   0.1s\n",
            "[CV] END learning_rate=0.003, loss=exponential, n_estimators=40; total time=   0.0s\n",
            "[CV] END learning_rate=0.003, loss=exponential, n_estimators=40; total time=   0.0s\n",
            "[CV] END learning_rate=0.003, loss=exponential, n_estimators=40; total time=   0.0s\n",
            "[CV] END learning_rate=0.003, loss=exponential, n_estimators=40; total time=   0.0s\n",
            "[CV] END learning_rate=0.003, loss=exponential, n_estimators=40; total time=   0.0s\n",
            "[CV] END learning_rate=0.003, loss=exponential, n_estimators=200; total time=   0.2s\n",
            "[CV] END learning_rate=0.003, loss=exponential, n_estimators=200; total time=   0.2s\n",
            "[CV] END learning_rate=0.003, loss=exponential, n_estimators=200; total time=   0.2s\n",
            "[CV] END learning_rate=0.003, loss=exponential, n_estimators=200; total time=   0.2s\n",
            "[CV] END learning_rate=0.003, loss=exponential, n_estimators=200; total time=   0.2s\n",
            "[CV] END ..learning_rate=0.003, loss=linear, n_estimators=50; total time=   0.1s\n",
            "[CV] END ..learning_rate=0.003, loss=linear, n_estimators=50; total time=   0.1s\n",
            "[CV] END ..learning_rate=0.003, loss=linear, n_estimators=50; total time=   0.1s\n",
            "[CV] END ..learning_rate=0.003, loss=linear, n_estimators=50; total time=   0.1s\n",
            "[CV] END ..learning_rate=0.003, loss=linear, n_estimators=50; total time=   0.1s\n",
            "[CV] END .learning_rate=0.003, loss=linear, n_estimators=100; total time=   0.1s\n",
            "[CV] END .learning_rate=0.003, loss=linear, n_estimators=100; total time=   0.1s\n",
            "[CV] END .learning_rate=0.003, loss=linear, n_estimators=100; total time=   0.1s\n",
            "[CV] END .learning_rate=0.003, loss=linear, n_estimators=100; total time=   0.1s\n",
            "[CV] END .learning_rate=0.003, loss=linear, n_estimators=100; total time=   0.1s\n",
            "[CV] END ..learning_rate=0.003, loss=linear, n_estimators=40; total time=   0.0s\n",
            "[CV] END ..learning_rate=0.003, loss=linear, n_estimators=40; total time=   0.0s\n",
            "[CV] END ..learning_rate=0.003, loss=linear, n_estimators=40; total time=   0.0s\n",
            "[CV] END ..learning_rate=0.003, loss=linear, n_estimators=40; total time=   0.0s\n",
            "[CV] END ..learning_rate=0.003, loss=linear, n_estimators=40; total time=   0.0s\n",
            "[CV] END .learning_rate=0.003, loss=linear, n_estimators=200; total time=   0.2s\n",
            "[CV] END .learning_rate=0.003, loss=linear, n_estimators=200; total time=   0.2s\n",
            "[CV] END .learning_rate=0.003, loss=linear, n_estimators=200; total time=   0.2s\n",
            "[CV] END .learning_rate=0.003, loss=linear, n_estimators=200; total time=   0.0s\n",
            "[CV] END .learning_rate=0.003, loss=linear, n_estimators=200; total time=   0.2s\n",
            "[CV] END ....learning_rate=0.1, loss=square, n_estimators=50; total time=   0.1s\n",
            "[CV] END ....learning_rate=0.1, loss=square, n_estimators=50; total time=   0.1s\n",
            "[CV] END ....learning_rate=0.1, loss=square, n_estimators=50; total time=   0.0s\n",
            "[CV] END ....learning_rate=0.1, loss=square, n_estimators=50; total time=   0.1s\n",
            "[CV] END ....learning_rate=0.1, loss=square, n_estimators=50; total time=   0.1s\n",
            "[CV] END ...learning_rate=0.1, loss=square, n_estimators=100; total time=   0.1s\n",
            "[CV] END ...learning_rate=0.1, loss=square, n_estimators=100; total time=   0.1s\n",
            "[CV] END ...learning_rate=0.1, loss=square, n_estimators=100; total time=   0.1s\n",
            "[CV] END ...learning_rate=0.1, loss=square, n_estimators=100; total time=   0.1s\n",
            "[CV] END ...learning_rate=0.1, loss=square, n_estimators=100; total time=   0.1s\n",
            "[CV] END ....learning_rate=0.1, loss=square, n_estimators=40; total time=   0.0s\n",
            "[CV] END ....learning_rate=0.1, loss=square, n_estimators=40; total time=   0.0s\n",
            "[CV] END ....learning_rate=0.1, loss=square, n_estimators=40; total time=   0.0s\n",
            "[CV] END ....learning_rate=0.1, loss=square, n_estimators=40; total time=   0.0s\n",
            "[CV] END ....learning_rate=0.1, loss=square, n_estimators=40; total time=   0.0s\n",
            "[CV] END ...learning_rate=0.1, loss=square, n_estimators=200; total time=   0.1s\n",
            "[CV] END ...learning_rate=0.1, loss=square, n_estimators=200; total time=   0.1s\n",
            "[CV] END ...learning_rate=0.1, loss=square, n_estimators=200; total time=   0.0s\n",
            "[CV] END ...learning_rate=0.1, loss=square, n_estimators=200; total time=   0.2s\n",
            "[CV] END ...learning_rate=0.1, loss=square, n_estimators=200; total time=   0.1s\n",
            "[CV] END learning_rate=0.1, loss=exponential, n_estimators=50; total time=   0.0s\n",
            "[CV] END learning_rate=0.1, loss=exponential, n_estimators=50; total time=   0.1s\n",
            "[CV] END learning_rate=0.1, loss=exponential, n_estimators=50; total time=   0.1s\n",
            "[CV] END learning_rate=0.1, loss=exponential, n_estimators=50; total time=   0.0s\n",
            "[CV] END learning_rate=0.1, loss=exponential, n_estimators=50; total time=   0.0s\n",
            "[CV] END learning_rate=0.1, loss=exponential, n_estimators=100; total time=   0.1s\n",
            "[CV] END learning_rate=0.1, loss=exponential, n_estimators=100; total time=   0.1s\n",
            "[CV] END learning_rate=0.1, loss=exponential, n_estimators=100; total time=   0.1s\n",
            "[CV] END learning_rate=0.1, loss=exponential, n_estimators=100; total time=   0.1s\n",
            "[CV] END learning_rate=0.1, loss=exponential, n_estimators=100; total time=   0.1s\n",
            "[CV] END learning_rate=0.1, loss=exponential, n_estimators=40; total time=   0.1s\n",
            "[CV] END learning_rate=0.1, loss=exponential, n_estimators=40; total time=   0.1s\n",
            "[CV] END learning_rate=0.1, loss=exponential, n_estimators=40; total time=   0.0s\n",
            "[CV] END learning_rate=0.1, loss=exponential, n_estimators=40; total time=   0.1s\n",
            "[CV] END learning_rate=0.1, loss=exponential, n_estimators=40; total time=   0.1s\n",
            "[CV] END learning_rate=0.1, loss=exponential, n_estimators=200; total time=   0.2s\n",
            "[CV] END learning_rate=0.1, loss=exponential, n_estimators=200; total time=   0.3s\n",
            "[CV] END learning_rate=0.1, loss=exponential, n_estimators=200; total time=   0.1s\n",
            "[CV] END learning_rate=0.1, loss=exponential, n_estimators=200; total time=   0.3s\n",
            "[CV] END learning_rate=0.1, loss=exponential, n_estimators=200; total time=   0.1s\n",
            "[CV] END ....learning_rate=0.1, loss=linear, n_estimators=50; total time=   0.1s\n",
            "[CV] END ....learning_rate=0.1, loss=linear, n_estimators=50; total time=   0.1s\n",
            "[CV] END ....learning_rate=0.1, loss=linear, n_estimators=50; total time=   0.1s\n",
            "[CV] END ....learning_rate=0.1, loss=linear, n_estimators=50; total time=   0.1s\n",
            "[CV] END ....learning_rate=0.1, loss=linear, n_estimators=50; total time=   0.1s\n",
            "[CV] END ...learning_rate=0.1, loss=linear, n_estimators=100; total time=   0.1s\n",
            "[CV] END ...learning_rate=0.1, loss=linear, n_estimators=100; total time=   0.1s\n",
            "[CV] END ...learning_rate=0.1, loss=linear, n_estimators=100; total time=   0.0s\n",
            "[CV] END ...learning_rate=0.1, loss=linear, n_estimators=100; total time=   0.0s\n",
            "[CV] END ...learning_rate=0.1, loss=linear, n_estimators=100; total time=   0.0s\n",
            "[CV] END ....learning_rate=0.1, loss=linear, n_estimators=40; total time=   0.1s\n",
            "[CV] END ....learning_rate=0.1, loss=linear, n_estimators=40; total time=   0.0s\n",
            "[CV] END ....learning_rate=0.1, loss=linear, n_estimators=40; total time=   0.0s\n",
            "[CV] END ....learning_rate=0.1, loss=linear, n_estimators=40; total time=   0.0s\n",
            "[CV] END ....learning_rate=0.1, loss=linear, n_estimators=40; total time=   0.0s\n",
            "[CV] END ...learning_rate=0.1, loss=linear, n_estimators=200; total time=   0.1s\n",
            "[CV] END ...learning_rate=0.1, loss=linear, n_estimators=200; total time=   0.1s\n",
            "[CV] END ...learning_rate=0.1, loss=linear, n_estimators=200; total time=   0.1s\n",
            "[CV] END ...learning_rate=0.1, loss=linear, n_estimators=200; total time=   0.1s\n",
            "[CV] END ...learning_rate=0.1, loss=linear, n_estimators=200; total time=   0.0s\n",
            "[CV] END ......learning_rate=2, loss=square, n_estimators=50; total time=   0.1s\n",
            "[CV] END ......learning_rate=2, loss=square, n_estimators=50; total time=   0.0s\n",
            "[CV] END ......learning_rate=2, loss=square, n_estimators=50; total time=   0.0s\n",
            "[CV] END ......learning_rate=2, loss=square, n_estimators=50; total time=   0.1s\n",
            "[CV] END ......learning_rate=2, loss=square, n_estimators=50; total time=   0.1s\n",
            "[CV] END .....learning_rate=2, loss=square, n_estimators=100; total time=   0.1s\n",
            "[CV] END .....learning_rate=2, loss=square, n_estimators=100; total time=   0.1s\n",
            "[CV] END .....learning_rate=2, loss=square, n_estimators=100; total time=   0.1s\n",
            "[CV] END .....learning_rate=2, loss=square, n_estimators=100; total time=   0.1s\n",
            "[CV] END .....learning_rate=2, loss=square, n_estimators=100; total time=   0.1s\n",
            "[CV] END ......learning_rate=2, loss=square, n_estimators=40; total time=   0.0s\n",
            "[CV] END ......learning_rate=2, loss=square, n_estimators=40; total time=   0.0s\n",
            "[CV] END ......learning_rate=2, loss=square, n_estimators=40; total time=   0.0s\n",
            "[CV] END ......learning_rate=2, loss=square, n_estimators=40; total time=   0.0s\n",
            "[CV] END ......learning_rate=2, loss=square, n_estimators=40; total time=   0.0s\n",
            "[CV] END .....learning_rate=2, loss=square, n_estimators=200; total time=   0.2s\n",
            "[CV] END .....learning_rate=2, loss=square, n_estimators=200; total time=   0.2s\n",
            "[CV] END .....learning_rate=2, loss=square, n_estimators=200; total time=   0.2s\n",
            "[CV] END .....learning_rate=2, loss=square, n_estimators=200; total time=   0.2s\n",
            "[CV] END .....learning_rate=2, loss=square, n_estimators=200; total time=   0.2s\n",
            "[CV] END .learning_rate=2, loss=exponential, n_estimators=50; total time=   0.0s\n",
            "[CV] END .learning_rate=2, loss=exponential, n_estimators=50; total time=   0.1s\n",
            "[CV] END .learning_rate=2, loss=exponential, n_estimators=50; total time=   0.1s\n",
            "[CV] END .learning_rate=2, loss=exponential, n_estimators=50; total time=   0.1s\n",
            "[CV] END .learning_rate=2, loss=exponential, n_estimators=50; total time=   0.1s\n",
            "[CV] END learning_rate=2, loss=exponential, n_estimators=100; total time=   0.0s\n",
            "[CV] END learning_rate=2, loss=exponential, n_estimators=100; total time=   0.1s\n",
            "[CV] END learning_rate=2, loss=exponential, n_estimators=100; total time=   0.0s\n",
            "[CV] END learning_rate=2, loss=exponential, n_estimators=100; total time=   0.1s\n",
            "[CV] END learning_rate=2, loss=exponential, n_estimators=100; total time=   0.1s\n",
            "[CV] END .learning_rate=2, loss=exponential, n_estimators=40; total time=   0.0s\n",
            "[CV] END .learning_rate=2, loss=exponential, n_estimators=40; total time=   0.0s\n",
            "[CV] END .learning_rate=2, loss=exponential, n_estimators=40; total time=   0.0s\n",
            "[CV] END .learning_rate=2, loss=exponential, n_estimators=40; total time=   0.0s\n",
            "[CV] END .learning_rate=2, loss=exponential, n_estimators=40; total time=   0.0s\n",
            "[CV] END learning_rate=2, loss=exponential, n_estimators=200; total time=   0.2s\n",
            "[CV] END learning_rate=2, loss=exponential, n_estimators=200; total time=   0.2s\n",
            "[CV] END learning_rate=2, loss=exponential, n_estimators=200; total time=   0.2s\n",
            "[CV] END learning_rate=2, loss=exponential, n_estimators=200; total time=   0.2s\n",
            "[CV] END learning_rate=2, loss=exponential, n_estimators=200; total time=   0.2s\n",
            "[CV] END ......learning_rate=2, loss=linear, n_estimators=50; total time=   0.1s\n",
            "[CV] END ......learning_rate=2, loss=linear, n_estimators=50; total time=   0.1s\n",
            "[CV] END ......learning_rate=2, loss=linear, n_estimators=50; total time=   0.1s\n",
            "[CV] END ......learning_rate=2, loss=linear, n_estimators=50; total time=   0.1s\n",
            "[CV] END ......learning_rate=2, loss=linear, n_estimators=50; total time=   0.1s\n",
            "[CV] END .....learning_rate=2, loss=linear, n_estimators=100; total time=   0.1s\n",
            "[CV] END .....learning_rate=2, loss=linear, n_estimators=100; total time=   0.1s\n",
            "[CV] END .....learning_rate=2, loss=linear, n_estimators=100; total time=   0.1s\n",
            "[CV] END .....learning_rate=2, loss=linear, n_estimators=100; total time=   0.1s\n",
            "[CV] END .....learning_rate=2, loss=linear, n_estimators=100; total time=   0.1s\n",
            "[CV] END ......learning_rate=2, loss=linear, n_estimators=40; total time=   0.1s\n",
            "[CV] END ......learning_rate=2, loss=linear, n_estimators=40; total time=   0.0s\n",
            "[CV] END ......learning_rate=2, loss=linear, n_estimators=40; total time=   0.0s\n",
            "[CV] END ......learning_rate=2, loss=linear, n_estimators=40; total time=   0.0s\n",
            "[CV] END ......learning_rate=2, loss=linear, n_estimators=40; total time=   0.0s\n",
            "[CV] END .....learning_rate=2, loss=linear, n_estimators=200; total time=   0.2s\n",
            "[CV] END .....learning_rate=2, loss=linear, n_estimators=200; total time=   0.2s\n",
            "[CV] END .....learning_rate=2, loss=linear, n_estimators=200; total time=   0.2s\n",
            "[CV] END .....learning_rate=2, loss=linear, n_estimators=200; total time=   0.2s\n",
            "[CV] END .....learning_rate=2, loss=linear, n_estimators=200; total time=   0.2s\n",
            "0.03333333333333333\n"
          ]
        }
      ]
    },
    {
      "cell_type": "code",
      "source": [
        "#16. Train a Gradient Boosting Classifier on the Breast Cancer dataset and print feature importance\n",
        "\n",
        "import numpy as np\n",
        "import pandas as pd\n",
        "import matplotlib.pyplot as plt\n",
        "from sklearn.datasets import load_breast_cancer\n",
        "from sklearn.ensemble import GradientBoostingClassifier, AdaBoostClassifier # Import AdaBoostClassifier here\n",
        "from sklearn.model_selection import train_test_split, RandomizedSearchCV\n",
        "from sklearn.metrics import accuracy_score\n",
        "\n",
        "# 1. Load the Breast Cancer dataset\n",
        "data = load_breast_cancer()\n",
        "X = pd.DataFrame(data.data, columns=data.feature_names)\n",
        "y = data.target\n",
        "\n",
        "# 2. Split into train and test sets\n",
        "X_train, X_test, y_train, y_test = train_test_split(X, y, test_size=0.2, random_state=42)\n",
        "\n",
        "# 3. Train Gradient Boosting Classifier\n",
        "model = GradientBoostingClassifier(random_state=42)\n",
        "model.fit(X_train, y_train)\n",
        "\n",
        "# 4. Evaluate model\n",
        "y_pred = model.predict(X_test)\n",
        "accuracy = accuracy_score(y_test, y_pred)\n",
        "print(f\"Accuracy: {accuracy:.4f}\")\n",
        "\n",
        "\n",
        "#hyperperameter tunning\n",
        "\n",
        "# Create a new AdaBoostClassifier instance for hyperparameter tuning on the Breast Cancer dataset\n",
        "ada_clf = AdaBoostClassifier(random_state=42)\n",
        "\n",
        "param_distribution = {\"n_estimators\":[50,100,40,200],\n",
        "\n",
        "              \"algorithm\":[\"SAMME\",\"SAMME.R\"],\n",
        "              \"learning_rate\":[0.2,0.003,0.1,2]\n",
        "              }\n",
        "# Use X_train and y_train from the Breast Cancer dataset for fitting RandomizedSearchCV\n",
        "model= RandomizedSearchCV(estimator=ada_clf,param_distributions= param_distribution,cv=5,verbose = 2 )\n",
        "\n",
        "model.fit(X_train,y_train) # Corrected: Use X_train and y_train from Breast Cancer dataset\n",
        "best_model=model.best_estimator_\n",
        "y_pred_tunned = best_model.predict(X_test) # Corrected: Use X_test from Breast Cancer dataset\n",
        "\n",
        "from sklearn.metrics import accuracy_score\n",
        "print(f\"Tuned Accuracy: {accuracy_score(y_test,y_pred_tunned):.4f}\") # Added a label for tuned accuracy and formatted\n",
        "\n"
      ],
      "metadata": {
        "colab": {
          "base_uri": "https://localhost:8080/"
        },
        "id": "okPcD0Vif-Bg",
        "outputId": "53f66cd8-a3aa-46d2-ae7f-134f3b1680ae"
      },
      "execution_count": null,
      "outputs": [
        {
          "output_type": "stream",
          "name": "stdout",
          "text": [
            "Accuracy: 0.9561\n",
            "Fitting 5 folds for each of 10 candidates, totalling 50 fits\n",
            "[CV] END algorithm=SAMME.R, learning_rate=2, n_estimators=40; total time=   0.0s\n",
            "[CV] END algorithm=SAMME.R, learning_rate=2, n_estimators=40; total time=   0.0s\n",
            "[CV] END algorithm=SAMME.R, learning_rate=2, n_estimators=40; total time=   0.0s\n",
            "[CV] END algorithm=SAMME.R, learning_rate=2, n_estimators=40; total time=   0.0s\n",
            "[CV] END algorithm=SAMME.R, learning_rate=2, n_estimators=40; total time=   0.0s\n",
            "[CV] END algorithm=SAMME.R, learning_rate=0.1, n_estimators=40; total time=   0.0s\n",
            "[CV] END algorithm=SAMME.R, learning_rate=0.1, n_estimators=40; total time=   0.0s\n",
            "[CV] END algorithm=SAMME.R, learning_rate=0.1, n_estimators=40; total time=   0.0s\n",
            "[CV] END algorithm=SAMME.R, learning_rate=0.1, n_estimators=40; total time=   0.0s\n",
            "[CV] END algorithm=SAMME.R, learning_rate=0.1, n_estimators=40; total time=   0.0s\n",
            "[CV] END algorithm=SAMME, learning_rate=0.003, n_estimators=50; total time=   0.2s\n"
          ]
        },
        {
          "output_type": "stream",
          "name": "stderr",
          "text": [
            "/usr/local/lib/python3.11/dist-packages/sklearn/ensemble/_weight_boosting.py:519: FutureWarning: The parameter 'algorithm' is deprecated in 1.6 and has no effect. It will be removed in version 1.8.\n",
            "  warnings.warn(\n",
            "/usr/local/lib/python3.11/dist-packages/sklearn/ensemble/_weight_boosting.py:519: FutureWarning: The parameter 'algorithm' is deprecated in 1.6 and has no effect. It will be removed in version 1.8.\n",
            "  warnings.warn(\n"
          ]
        },
        {
          "output_type": "stream",
          "name": "stdout",
          "text": [
            "[CV] END algorithm=SAMME, learning_rate=0.003, n_estimators=50; total time=   0.2s\n",
            "[CV] END algorithm=SAMME, learning_rate=0.003, n_estimators=50; total time=   0.2s\n"
          ]
        },
        {
          "output_type": "stream",
          "name": "stderr",
          "text": [
            "/usr/local/lib/python3.11/dist-packages/sklearn/ensemble/_weight_boosting.py:519: FutureWarning: The parameter 'algorithm' is deprecated in 1.6 and has no effect. It will be removed in version 1.8.\n",
            "  warnings.warn(\n",
            "/usr/local/lib/python3.11/dist-packages/sklearn/ensemble/_weight_boosting.py:519: FutureWarning: The parameter 'algorithm' is deprecated in 1.6 and has no effect. It will be removed in version 1.8.\n",
            "  warnings.warn(\n"
          ]
        },
        {
          "output_type": "stream",
          "name": "stdout",
          "text": [
            "[CV] END algorithm=SAMME, learning_rate=0.003, n_estimators=50; total time=   0.2s\n",
            "[CV] END algorithm=SAMME, learning_rate=0.003, n_estimators=50; total time=   0.2s\n"
          ]
        },
        {
          "output_type": "stream",
          "name": "stderr",
          "text": [
            "/usr/local/lib/python3.11/dist-packages/sklearn/ensemble/_weight_boosting.py:519: FutureWarning: The parameter 'algorithm' is deprecated in 1.6 and has no effect. It will be removed in version 1.8.\n",
            "  warnings.warn(\n",
            "/usr/local/lib/python3.11/dist-packages/sklearn/ensemble/_weight_boosting.py:519: FutureWarning: The parameter 'algorithm' is deprecated in 1.6 and has no effect. It will be removed in version 1.8.\n",
            "  warnings.warn(\n"
          ]
        },
        {
          "output_type": "stream",
          "name": "stdout",
          "text": [
            "[CV] END ..algorithm=SAMME, learning_rate=2, n_estimators=40; total time=   0.2s\n",
            "[CV] END ..algorithm=SAMME, learning_rate=2, n_estimators=40; total time=   0.2s\n"
          ]
        },
        {
          "output_type": "stream",
          "name": "stderr",
          "text": [
            "/usr/local/lib/python3.11/dist-packages/sklearn/ensemble/_weight_boosting.py:519: FutureWarning: The parameter 'algorithm' is deprecated in 1.6 and has no effect. It will be removed in version 1.8.\n",
            "  warnings.warn(\n",
            "/usr/local/lib/python3.11/dist-packages/sklearn/ensemble/_weight_boosting.py:519: FutureWarning: The parameter 'algorithm' is deprecated in 1.6 and has no effect. It will be removed in version 1.8.\n",
            "  warnings.warn(\n"
          ]
        },
        {
          "output_type": "stream",
          "name": "stdout",
          "text": [
            "[CV] END ..algorithm=SAMME, learning_rate=2, n_estimators=40; total time=   0.2s\n",
            "[CV] END ..algorithm=SAMME, learning_rate=2, n_estimators=40; total time=   0.1s\n"
          ]
        },
        {
          "output_type": "stream",
          "name": "stderr",
          "text": [
            "/usr/local/lib/python3.11/dist-packages/sklearn/ensemble/_weight_boosting.py:519: FutureWarning: The parameter 'algorithm' is deprecated in 1.6 and has no effect. It will be removed in version 1.8.\n",
            "  warnings.warn(\n",
            "/usr/local/lib/python3.11/dist-packages/sklearn/ensemble/_weight_boosting.py:519: FutureWarning: The parameter 'algorithm' is deprecated in 1.6 and has no effect. It will be removed in version 1.8.\n",
            "  warnings.warn(\n"
          ]
        },
        {
          "output_type": "stream",
          "name": "stdout",
          "text": [
            "[CV] END ..algorithm=SAMME, learning_rate=2, n_estimators=40; total time=   0.1s\n",
            "[CV] END algorithm=SAMME.R, learning_rate=0.003, n_estimators=200; total time=   0.0s\n",
            "[CV] END algorithm=SAMME.R, learning_rate=0.003, n_estimators=200; total time=   0.0s\n",
            "[CV] END algorithm=SAMME.R, learning_rate=0.003, n_estimators=200; total time=   0.0s\n",
            "[CV] END algorithm=SAMME.R, learning_rate=0.003, n_estimators=200; total time=   0.0s\n",
            "[CV] END algorithm=SAMME.R, learning_rate=0.003, n_estimators=200; total time=   0.0s\n",
            "[CV] END ..algorithm=SAMME, learning_rate=2, n_estimators=50; total time=   0.1s\n"
          ]
        },
        {
          "output_type": "stream",
          "name": "stderr",
          "text": [
            "/usr/local/lib/python3.11/dist-packages/sklearn/ensemble/_weight_boosting.py:519: FutureWarning: The parameter 'algorithm' is deprecated in 1.6 and has no effect. It will be removed in version 1.8.\n",
            "  warnings.warn(\n",
            "/usr/local/lib/python3.11/dist-packages/sklearn/ensemble/_weight_boosting.py:519: FutureWarning: The parameter 'algorithm' is deprecated in 1.6 and has no effect. It will be removed in version 1.8.\n",
            "  warnings.warn(\n"
          ]
        },
        {
          "output_type": "stream",
          "name": "stdout",
          "text": [
            "[CV] END ..algorithm=SAMME, learning_rate=2, n_estimators=50; total time=   0.1s\n",
            "[CV] END ..algorithm=SAMME, learning_rate=2, n_estimators=50; total time=   0.1s\n"
          ]
        },
        {
          "output_type": "stream",
          "name": "stderr",
          "text": [
            "/usr/local/lib/python3.11/dist-packages/sklearn/ensemble/_weight_boosting.py:519: FutureWarning: The parameter 'algorithm' is deprecated in 1.6 and has no effect. It will be removed in version 1.8.\n",
            "  warnings.warn(\n",
            "/usr/local/lib/python3.11/dist-packages/sklearn/ensemble/_weight_boosting.py:519: FutureWarning: The parameter 'algorithm' is deprecated in 1.6 and has no effect. It will be removed in version 1.8.\n",
            "  warnings.warn(\n"
          ]
        },
        {
          "output_type": "stream",
          "name": "stdout",
          "text": [
            "[CV] END ..algorithm=SAMME, learning_rate=2, n_estimators=50; total time=   0.1s\n",
            "[CV] END ..algorithm=SAMME, learning_rate=2, n_estimators=50; total time=   0.1s\n"
          ]
        },
        {
          "output_type": "stream",
          "name": "stderr",
          "text": [
            "/usr/local/lib/python3.11/dist-packages/sklearn/ensemble/_weight_boosting.py:519: FutureWarning: The parameter 'algorithm' is deprecated in 1.6 and has no effect. It will be removed in version 1.8.\n",
            "  warnings.warn(\n",
            "/usr/local/lib/python3.11/dist-packages/sklearn/ensemble/_weight_boosting.py:519: FutureWarning: The parameter 'algorithm' is deprecated in 1.6 and has no effect. It will be removed in version 1.8.\n",
            "  warnings.warn(\n"
          ]
        },
        {
          "output_type": "stream",
          "name": "stdout",
          "text": [
            "[CV] END .algorithm=SAMME, learning_rate=2, n_estimators=200; total time=   0.5s\n"
          ]
        },
        {
          "output_type": "stream",
          "name": "stderr",
          "text": [
            "/usr/local/lib/python3.11/dist-packages/sklearn/ensemble/_weight_boosting.py:519: FutureWarning: The parameter 'algorithm' is deprecated in 1.6 and has no effect. It will be removed in version 1.8.\n",
            "  warnings.warn(\n"
          ]
        },
        {
          "output_type": "stream",
          "name": "stdout",
          "text": [
            "[CV] END .algorithm=SAMME, learning_rate=2, n_estimators=200; total time=   0.5s\n"
          ]
        },
        {
          "output_type": "stream",
          "name": "stderr",
          "text": [
            "/usr/local/lib/python3.11/dist-packages/sklearn/ensemble/_weight_boosting.py:519: FutureWarning: The parameter 'algorithm' is deprecated in 1.6 and has no effect. It will be removed in version 1.8.\n",
            "  warnings.warn(\n"
          ]
        },
        {
          "output_type": "stream",
          "name": "stdout",
          "text": [
            "[CV] END .algorithm=SAMME, learning_rate=2, n_estimators=200; total time=   0.5s\n"
          ]
        },
        {
          "output_type": "stream",
          "name": "stderr",
          "text": [
            "/usr/local/lib/python3.11/dist-packages/sklearn/ensemble/_weight_boosting.py:519: FutureWarning: The parameter 'algorithm' is deprecated in 1.6 and has no effect. It will be removed in version 1.8.\n",
            "  warnings.warn(\n"
          ]
        },
        {
          "output_type": "stream",
          "name": "stdout",
          "text": [
            "[CV] END .algorithm=SAMME, learning_rate=2, n_estimators=200; total time=   0.5s\n"
          ]
        },
        {
          "output_type": "stream",
          "name": "stderr",
          "text": [
            "/usr/local/lib/python3.11/dist-packages/sklearn/ensemble/_weight_boosting.py:519: FutureWarning: The parameter 'algorithm' is deprecated in 1.6 and has no effect. It will be removed in version 1.8.\n",
            "  warnings.warn(\n"
          ]
        },
        {
          "output_type": "stream",
          "name": "stdout",
          "text": [
            "[CV] END .algorithm=SAMME, learning_rate=2, n_estimators=200; total time=   0.5s\n"
          ]
        },
        {
          "output_type": "stream",
          "name": "stderr",
          "text": [
            "/usr/local/lib/python3.11/dist-packages/sklearn/ensemble/_weight_boosting.py:519: FutureWarning: The parameter 'algorithm' is deprecated in 1.6 and has no effect. It will be removed in version 1.8.\n",
            "  warnings.warn(\n"
          ]
        },
        {
          "output_type": "stream",
          "name": "stdout",
          "text": [
            "[CV] END algorithm=SAMME, learning_rate=0.1, n_estimators=100; total time=   0.3s\n"
          ]
        },
        {
          "output_type": "stream",
          "name": "stderr",
          "text": [
            "/usr/local/lib/python3.11/dist-packages/sklearn/ensemble/_weight_boosting.py:519: FutureWarning: The parameter 'algorithm' is deprecated in 1.6 and has no effect. It will be removed in version 1.8.\n",
            "  warnings.warn(\n"
          ]
        },
        {
          "output_type": "stream",
          "name": "stdout",
          "text": [
            "[CV] END algorithm=SAMME, learning_rate=0.1, n_estimators=100; total time=   0.3s\n"
          ]
        },
        {
          "output_type": "stream",
          "name": "stderr",
          "text": [
            "/usr/local/lib/python3.11/dist-packages/sklearn/ensemble/_weight_boosting.py:519: FutureWarning: The parameter 'algorithm' is deprecated in 1.6 and has no effect. It will be removed in version 1.8.\n",
            "  warnings.warn(\n"
          ]
        },
        {
          "output_type": "stream",
          "name": "stdout",
          "text": [
            "[CV] END algorithm=SAMME, learning_rate=0.1, n_estimators=100; total time=   0.3s\n"
          ]
        },
        {
          "output_type": "stream",
          "name": "stderr",
          "text": [
            "/usr/local/lib/python3.11/dist-packages/sklearn/ensemble/_weight_boosting.py:519: FutureWarning: The parameter 'algorithm' is deprecated in 1.6 and has no effect. It will be removed in version 1.8.\n",
            "  warnings.warn(\n"
          ]
        },
        {
          "output_type": "stream",
          "name": "stdout",
          "text": [
            "[CV] END algorithm=SAMME, learning_rate=0.1, n_estimators=100; total time=   0.3s\n"
          ]
        },
        {
          "output_type": "stream",
          "name": "stderr",
          "text": [
            "/usr/local/lib/python3.11/dist-packages/sklearn/ensemble/_weight_boosting.py:519: FutureWarning: The parameter 'algorithm' is deprecated in 1.6 and has no effect. It will be removed in version 1.8.\n",
            "  warnings.warn(\n"
          ]
        },
        {
          "output_type": "stream",
          "name": "stdout",
          "text": [
            "[CV] END algorithm=SAMME, learning_rate=0.1, n_estimators=100; total time=   0.3s\n",
            "[CV] END algorithm=SAMME, learning_rate=0.003, n_estimators=40; total time=   0.1s\n"
          ]
        },
        {
          "output_type": "stream",
          "name": "stderr",
          "text": [
            "/usr/local/lib/python3.11/dist-packages/sklearn/ensemble/_weight_boosting.py:519: FutureWarning: The parameter 'algorithm' is deprecated in 1.6 and has no effect. It will be removed in version 1.8.\n",
            "  warnings.warn(\n",
            "/usr/local/lib/python3.11/dist-packages/sklearn/ensemble/_weight_boosting.py:519: FutureWarning: The parameter 'algorithm' is deprecated in 1.6 and has no effect. It will be removed in version 1.8.\n",
            "  warnings.warn(\n"
          ]
        },
        {
          "output_type": "stream",
          "name": "stdout",
          "text": [
            "[CV] END algorithm=SAMME, learning_rate=0.003, n_estimators=40; total time=   0.1s\n",
            "[CV] END algorithm=SAMME, learning_rate=0.003, n_estimators=40; total time=   0.1s\n"
          ]
        },
        {
          "output_type": "stream",
          "name": "stderr",
          "text": [
            "/usr/local/lib/python3.11/dist-packages/sklearn/ensemble/_weight_boosting.py:519: FutureWarning: The parameter 'algorithm' is deprecated in 1.6 and has no effect. It will be removed in version 1.8.\n",
            "  warnings.warn(\n",
            "/usr/local/lib/python3.11/dist-packages/sklearn/ensemble/_weight_boosting.py:519: FutureWarning: The parameter 'algorithm' is deprecated in 1.6 and has no effect. It will be removed in version 1.8.\n",
            "  warnings.warn(\n"
          ]
        },
        {
          "output_type": "stream",
          "name": "stdout",
          "text": [
            "[CV] END algorithm=SAMME, learning_rate=0.003, n_estimators=40; total time=   0.1s\n",
            "[CV] END algorithm=SAMME, learning_rate=0.003, n_estimators=40; total time=   0.1s\n",
            "[CV] END algorithm=SAMME.R, learning_rate=0.1, n_estimators=100; total time=   0.0s\n",
            "[CV] END algorithm=SAMME.R, learning_rate=0.1, n_estimators=100; total time=   0.0s\n",
            "[CV] END algorithm=SAMME.R, learning_rate=0.1, n_estimators=100; total time=   0.0s\n",
            "[CV] END algorithm=SAMME.R, learning_rate=0.1, n_estimators=100; total time=   0.0s\n",
            "[CV] END algorithm=SAMME.R, learning_rate=0.1, n_estimators=100; total time=   0.0s\n"
          ]
        },
        {
          "output_type": "stream",
          "name": "stderr",
          "text": [
            "/usr/local/lib/python3.11/dist-packages/sklearn/ensemble/_weight_boosting.py:519: FutureWarning: The parameter 'algorithm' is deprecated in 1.6 and has no effect. It will be removed in version 1.8.\n",
            "  warnings.warn(\n",
            "/usr/local/lib/python3.11/dist-packages/sklearn/model_selection/_validation.py:516: FitFailedWarning: \n",
            "20 fits failed out of a total of 50.\n",
            "The score on these train-test partitions for these parameters will be set to nan.\n",
            "If these failures are not expected, you can try to debug them by setting error_score='raise'.\n",
            "\n",
            "Below are more details about the failures:\n",
            "--------------------------------------------------------------------------------\n",
            "20 fits failed with the following error:\n",
            "Traceback (most recent call last):\n",
            "  File \"/usr/local/lib/python3.11/dist-packages/sklearn/model_selection/_validation.py\", line 859, in _fit_and_score\n",
            "    estimator.fit(X_train, y_train, **fit_params)\n",
            "  File \"/usr/local/lib/python3.11/dist-packages/sklearn/base.py\", line 1356, in wrapper\n",
            "    estimator._validate_params()\n",
            "  File \"/usr/local/lib/python3.11/dist-packages/sklearn/base.py\", line 469, in _validate_params\n",
            "    validate_parameter_constraints(\n",
            "  File \"/usr/local/lib/python3.11/dist-packages/sklearn/utils/_param_validation.py\", line 98, in validate_parameter_constraints\n",
            "    raise InvalidParameterError(\n",
            "sklearn.utils._param_validation.InvalidParameterError: The 'algorithm' parameter of AdaBoostClassifier must be a str among {'SAMME'}. Got 'SAMME.R' instead.\n",
            "\n",
            "  warnings.warn(some_fits_failed_message, FitFailedWarning)\n",
            "/usr/local/lib/python3.11/dist-packages/sklearn/model_selection/_search.py:1135: UserWarning: One or more of the test scores are non-finite: [       nan        nan 0.89450549 0.82637363        nan 0.83516484\n",
            " 0.83736264 0.96483516 0.88791209        nan]\n",
            "  warnings.warn(\n",
            "/usr/local/lib/python3.11/dist-packages/sklearn/ensemble/_weight_boosting.py:519: FutureWarning: The parameter 'algorithm' is deprecated in 1.6 and has no effect. It will be removed in version 1.8.\n",
            "  warnings.warn(\n"
          ]
        },
        {
          "output_type": "stream",
          "name": "stdout",
          "text": [
            "Tuned Accuracy: 0.9561\n"
          ]
        }
      ]
    },
    {
      "cell_type": "code",
      "source": [
        "#17. rain a Gradient Boosting Regressor and evaluate using R-Squared Score\n",
        "\n",
        "from sklearn.datasets import make_regression\n",
        "x,y = make_regression(n_samples = 1000, noise=2, random_state=1 )\n",
        "\n",
        "\n",
        "from sklearn.model_selection import train_test_split\n",
        "x_train,x_test,y_train,y_test =  train_test_split(x,y,test_size=0.2,random_state= 42)\n",
        "\n",
        "from sklearn.ensemble import GradientBoostingRegressor\n",
        "reg = GradientBoostingRegressor()\n",
        "reg.fit(x_train,y_train)\n",
        "y_pred = reg.predict(x_test)\n",
        "\n",
        "from sklearn.metrics import r2_score\n",
        "print(r2_score(y_pred,y_test))\n",
        "\n",
        "\n",
        "#hyperPeratameter tunning\n",
        "\n",
        "from sklearn.model_selection import RandomizedSearchCV\n",
        "\n",
        "param =  {\"n_estimators\":[50,100,30,140,240],\n",
        "          \"learning_rate\":[0.2,0.004,0.54,3],\n",
        "          \"max_depth\":[2,4,6,8,9]}\n",
        "\n",
        "model =  RandomizedSearchCV(estimator=reg,param_distributions=param,cv=5,verbose=2)\n",
        "model.fit(x_train,y_train)\n",
        "y_pred_tunned= model.predict(x_test)\n",
        "\n",
        "from sklearn.metrics import r2_score\n",
        "print(r2_score(y_pred_tunned,y_test))"
      ],
      "metadata": {
        "id": "SK2hyqKef94h"
      },
      "execution_count": null,
      "outputs": []
    },
    {
      "cell_type": "code",
      "source": [
        "#18. Train an XGBoost Classifier on a dataset and compare accuracy with Gradient Boosting\n",
        "\n",
        "\n",
        "#xGBoost\n",
        "!pip install xgboost\n",
        "import pandas as pd\n",
        "from sklearn.datasets import load_breast_cancer\n",
        "from sklearn.model_selection import train_test_split\n",
        "data = load_breast_cancer()\n",
        "X = pd.DataFrame(data.data, columns=data.feature_names)\n",
        "y = data.target\n",
        "X_train, X_test, y_train, y_test = train_test_split(X, y, test_size=0.2, random_state=42)\n",
        "\n",
        "\n",
        "from xgboost import XGBClassifier\n",
        "model =XGBClassifier(n_estimators=4,random_state=42)\n",
        "model.fit(X_train, y_train)\n",
        "\n",
        "y_pred=model.predict(X_test)\n",
        "\n",
        "\n",
        "from sklearn.metrics import accuracy_score\n",
        "print(accuracy_score(y_pred,y_test))\n",
        "\n",
        "\n",
        "\n",
        "#GRADIENT BOOSTING\n",
        "from sklearn.ensemble import GradientBoostingClassifier\n",
        "model =GradientBoostingClassifier(n_estimators=43,random_state=42)\n",
        "model.fit(X_train, y_train)\n",
        "\n",
        "y_pred=model.predict(X_test)\n",
        "\n",
        "\n",
        "from sklearn.metrics import accuracy_score\n",
        "print(accuracy_score(y_pred,y_test))"
      ],
      "metadata": {
        "id": "ERcnxT9Of9y_",
        "colab": {
          "base_uri": "https://localhost:8080/"
        },
        "outputId": "7a1f1e1c-86a4-4ce3-f001-f17cf359477e"
      },
      "execution_count": 18,
      "outputs": [
        {
          "output_type": "stream",
          "name": "stdout",
          "text": [
            "Requirement already satisfied: xgboost in /usr/local/lib/python3.11/dist-packages (2.1.4)\n",
            "Requirement already satisfied: numpy in /usr/local/lib/python3.11/dist-packages (from xgboost) (2.0.2)\n",
            "Requirement already satisfied: nvidia-nccl-cu12 in /usr/local/lib/python3.11/dist-packages (from xgboost) (2.21.5)\n",
            "Requirement already satisfied: scipy in /usr/local/lib/python3.11/dist-packages (from xgboost) (1.15.3)\n",
            "0.9649122807017544\n",
            "0.956140350877193\n"
          ]
        }
      ]
    },
    {
      "cell_type": "code",
      "source": [
        "#19. rain a CatBoost Classifier and evaluate using F1-Score\n",
        "!pip install CatBoost\n",
        "import pandas as pd\n",
        "from sklearn.datasets import load_breast_cancer\n",
        "from sklearn.model_selection import train_test_split\n",
        "data = load_breast_cancer()\n",
        "X = pd.DataFrame(data.data, columns=data.feature_names)\n",
        "y = data.target\n",
        "X_train, X_test, y_train, y_test = train_test_split(X, y, test_size=0.2, random_state=42)\n",
        "\n",
        "\n",
        "from catboost import CatBoostClassifier\n",
        "model =CatBoostClassifier(n_estimators=4,random_state=42)\n",
        "model.fit(X_train, y_train)\n",
        "\n",
        "y_pred=model.predict(X_test)\n",
        "\n",
        "\n",
        "from sklearn.metrics import f1_score\n",
        "print(f1_score(y_pred,y_test))\n",
        "\n"
      ],
      "metadata": {
        "id": "Z_EUZ_Znf9wH",
        "colab": {
          "base_uri": "https://localhost:8080/"
        },
        "outputId": "9f0f41df-be2c-4626-e83e-17855595b38d"
      },
      "execution_count": 20,
      "outputs": [
        {
          "output_type": "stream",
          "name": "stdout",
          "text": [
            "Requirement already satisfied: CatBoost in /usr/local/lib/python3.11/dist-packages (1.2.8)\n",
            "Requirement already satisfied: graphviz in /usr/local/lib/python3.11/dist-packages (from CatBoost) (0.21)\n",
            "Requirement already satisfied: matplotlib in /usr/local/lib/python3.11/dist-packages (from CatBoost) (3.10.0)\n",
            "Requirement already satisfied: numpy<3.0,>=1.16.0 in /usr/local/lib/python3.11/dist-packages (from CatBoost) (2.0.2)\n",
            "Requirement already satisfied: pandas>=0.24 in /usr/local/lib/python3.11/dist-packages (from CatBoost) (2.2.2)\n",
            "Requirement already satisfied: scipy in /usr/local/lib/python3.11/dist-packages (from CatBoost) (1.15.3)\n",
            "Requirement already satisfied: plotly in /usr/local/lib/python3.11/dist-packages (from CatBoost) (5.24.1)\n",
            "Requirement already satisfied: six in /usr/local/lib/python3.11/dist-packages (from CatBoost) (1.17.0)\n",
            "Requirement already satisfied: python-dateutil>=2.8.2 in /usr/local/lib/python3.11/dist-packages (from pandas>=0.24->CatBoost) (2.9.0.post0)\n",
            "Requirement already satisfied: pytz>=2020.1 in /usr/local/lib/python3.11/dist-packages (from pandas>=0.24->CatBoost) (2025.2)\n",
            "Requirement already satisfied: tzdata>=2022.7 in /usr/local/lib/python3.11/dist-packages (from pandas>=0.24->CatBoost) (2025.2)\n",
            "Requirement already satisfied: contourpy>=1.0.1 in /usr/local/lib/python3.11/dist-packages (from matplotlib->CatBoost) (1.3.2)\n",
            "Requirement already satisfied: cycler>=0.10 in /usr/local/lib/python3.11/dist-packages (from matplotlib->CatBoost) (0.12.1)\n",
            "Requirement already satisfied: fonttools>=4.22.0 in /usr/local/lib/python3.11/dist-packages (from matplotlib->CatBoost) (4.58.4)\n",
            "Requirement already satisfied: kiwisolver>=1.3.1 in /usr/local/lib/python3.11/dist-packages (from matplotlib->CatBoost) (1.4.8)\n",
            "Requirement already satisfied: packaging>=20.0 in /usr/local/lib/python3.11/dist-packages (from matplotlib->CatBoost) (24.2)\n",
            "Requirement already satisfied: pillow>=8 in /usr/local/lib/python3.11/dist-packages (from matplotlib->CatBoost) (11.2.1)\n",
            "Requirement already satisfied: pyparsing>=2.3.1 in /usr/local/lib/python3.11/dist-packages (from matplotlib->CatBoost) (3.2.3)\n",
            "Requirement already satisfied: tenacity>=6.2.0 in /usr/local/lib/python3.11/dist-packages (from plotly->CatBoost) (9.1.2)\n",
            "Learning rate set to 0.5\n",
            "0:\tlearn: 0.2404892\ttotal: 52.6ms\tremaining: 158ms\n",
            "1:\tlearn: 0.1257943\ttotal: 57.4ms\tremaining: 57.4ms\n",
            "2:\tlearn: 0.0751527\ttotal: 62ms\tremaining: 20.7ms\n",
            "3:\tlearn: 0.0666598\ttotal: 66.5ms\tremaining: 0us\n",
            "0.9722222222222222\n"
          ]
        }
      ]
    },
    {
      "cell_type": "code",
      "source": [
        "#20.Train an XGBoost Regressor and evaluate using Mean Squared Error (MSE)\n",
        "!pip install xgboost\n",
        "import pandas as pd\n",
        "from sklearn.datasets import load_breast_cancer\n",
        "from sklearn.model_selection import train_test_split\n",
        "data = load_breast_cancer()\n",
        "X = pd.DataFrame(data.data, columns=data.feature_names)\n",
        "y = data.target\n",
        "X_train, X_test, y_train, y_test = train_test_split(X, y, test_size=0.2, random_state=42)\n",
        "\n",
        "\n",
        "from xgboost import XGBRegressor\n",
        "model =XGBRegressor(n_estimators=4,random_state=42)\n",
        "model.fit(X_train, y_train)\n",
        "\n",
        "y_pred=model.predict(X_test)\n",
        "\n",
        "\n",
        "from sklearn.metrics import mean_squared_error\n",
        "print(mean_squared_error(y_pred,y_test))\n",
        "\n",
        "\n"
      ],
      "metadata": {
        "colab": {
          "base_uri": "https://localhost:8080/"
        },
        "id": "FRUMq5rdSVr_",
        "outputId": "bd967441-4339-4210-ca2d-f82189b4f7b4"
      },
      "execution_count": 21,
      "outputs": [
        {
          "output_type": "stream",
          "name": "stdout",
          "text": [
            "Requirement already satisfied: xgboost in /usr/local/lib/python3.11/dist-packages (2.1.4)\n",
            "Requirement already satisfied: numpy in /usr/local/lib/python3.11/dist-packages (from xgboost) (2.0.2)\n",
            "Requirement already satisfied: nvidia-nccl-cu12 in /usr/local/lib/python3.11/dist-packages (from xgboost) (2.21.5)\n",
            "Requirement already satisfied: scipy in /usr/local/lib/python3.11/dist-packages (from xgboost) (1.15.3)\n",
            "0.055208075791597366\n"
          ]
        }
      ]
    },
    {
      "cell_type": "code",
      "source": [
        "#21. Train an AdaBoost Classifier and visualize feature importance\n",
        "\n",
        "from sklearn.ensemble import AdaBoostClassifier\n",
        "from sklearn.datasets import load_breast_cancer\n",
        "from sklearn.tree import DecisionTreeClassifier\n",
        "import matplotlib.pyplot as plt\n",
        "import pandas as pd\n",
        "\n",
        "data = load_breast_cancer()\n",
        "X, y = data.data, data.target\n",
        "\n",
        "model = AdaBoostClassifier(n_estimators=50)\n",
        "model.fit(X, y)\n",
        "\n",
        "plt.bar(range(X.shape[1]), model.feature_importances_)\n",
        "plt.xticks(range(X.shape[1]), data.feature_names, rotation=90)\n",
        "plt.title(\"AdaBoost Feature Importance\")\n",
        "plt.tight_layout()\n",
        "plt.show()\n"
      ],
      "metadata": {
        "id": "it7SQ9ZSS4tP"
      },
      "execution_count": null,
      "outputs": []
    },
    {
      "cell_type": "code",
      "source": [
        "#22. Train a Gradient Boosting Regressor and plot learning curves\n",
        "\n",
        "import numpy as np\n",
        "import matplotlib.pyplot as plt\n",
        "from sklearn.model_selection import train_test_split\n",
        "from sklearn.datasets import make_regression\n",
        "from sklearn.ensemble import GradientBoostingRegressor\n",
        "from sklearn.metrics import mean_squared_error\n",
        "\n",
        "print(\"--- 2. Gradient Boosting Regressor and Learning Curves ---\")\n",
        "\n",
        "# Create a synthetic regression dataset\n",
        "X, y = make_regression(n_samples=1000, n_features=10, n_informative=5, random_state=42)\n",
        "X_train, X_test, y_train, y_test = train_test_split(X, y, test_size=0.2, random_state=42)\n",
        "\n",
        "# Train a Gradient Boosting Regressor\n",
        "gbr = GradientBoostingRegressor(n_estimators=200, max_depth=3, learning_rate=0.1, random_state=42)\n",
        "gbr.fit(X_train, y_train)\n",
        "\n",
        "# Plotting learning curves\n",
        "test_scores = np.zeros((gbr.n_estimators,), dtype=np.float64)\n",
        "for i, y_pred in enumerate(gbr.staged_predict(X_test)):\n",
        "    test_scores[i] = mean_squared_error(y_test, y_pred)\n",
        "\n",
        "plt.figure(figsize=(10, 6))\n",
        "plt.plot(np.arange(gbr.n_estimators) + 1, gbr.train_score_, 'b-', label='Training Loss')\n",
        "plt.plot(np.arange(gbr.n_estimators) + 1, test_scores, 'r-', label='Test Loss')\n",
        "plt.title('Gradient Boosting Regressor - Learning Curves')\n",
        "plt.xlabel('Number of Estimators')\n",
        "plt.ylabel('Mean Squared Error')\n",
        "plt.legend()\n",
        "plt.grid(True)\n",
        "plt.show()\n",
        "\n",
        "print(\"Gradient Boosting Regressor trained and learning curves plotted.\")"
      ],
      "metadata": {
        "colab": {
          "base_uri": "https://localhost:8080/",
          "height": 599
        },
        "id": "IyA6gRowS4oQ",
        "outputId": "ee0c0ee4-46c2-4149-8626-0239a87dddd5"
      },
      "execution_count": 25,
      "outputs": [
        {
          "output_type": "stream",
          "name": "stdout",
          "text": [
            "--- 2. Gradient Boosting Regressor and Learning Curves ---\n"
          ]
        },
        {
          "output_type": "display_data",
          "data": {
            "text/plain": [
              "<Figure size 1000x600 with 1 Axes>"
            ],
            "image/png": "[encoded data removed]"
          },
          "metadata": {}
        },
        {
          "output_type": "stream",
          "name": "stdout",
          "text": [
            "Gradient Boosting Regressor trained and learning curves plotted.\n"
          ]
        }
      ]
    },
    {
      "cell_type": "code",
      "source": [
        "# 23. Train an XGBoost Classifier and visualize feature importance\n",
        "\n",
        "import numpy as np\n",
        "import matplotlib.pyplot as plt\n",
        "from sklearn.model_selection import train_test_split\n",
        "from sklearn.datasets import make_classification\n",
        "import xgboost as xgb\n",
        "\n",
        "print(\"--- 3. XGBoost Classifier and Feature Importance ---\")\n",
        "\n",
        "# Create a synthetic classification dataset\n",
        "X, y = make_classification(n_samples=1000, n_features=10, n_informative=5, n_redundant=0, random_state=42)\n",
        "X_train, X_test, y_train, y_test = train_test_split(X, y, test_size=0.2, random_state=42)\n",
        "\n",
        "# Train an XGBoost Classifier\n",
        "xgb_clf = xgb.XGBClassifier(objective='binary:logistic', eval_metric='logloss', use_label_encoder=False, random_state=42)\n",
        "xgb_clf.fit(X_train, y_train)\n",
        "\n",
        "# Visualize feature importances\n",
        "fig, ax = plt.subplots(figsize=(10, 6))\n",
        "xgb.plot_importance(xgb_clf, ax=ax)\n",
        "plt.title('XGBoost Classifier - Feature Importances')\n",
        "plt.show()\n",
        "\n",
        "print(\"XGBoost Classifier trained and feature importance visualized.\")"
      ],
      "metadata": {
        "colab": {
          "base_uri": "https://localhost:8080/",
          "height": 668
        },
        "id": "8fs7x9DgS4lt",
        "outputId": "4cdde811-16aa-4e3a-cd59-7fb9ca3066f0"
      },
      "execution_count": 24,
      "outputs": [
        {
          "output_type": "stream",
          "name": "stdout",
          "text": [
            "--- 3. XGBoost Classifier and Feature Importance ---\n"
          ]
        },
        {
          "output_type": "stream",
          "name": "stderr",
          "text": [
            "/usr/local/lib/python3.11/dist-packages/xgboost/core.py:158: UserWarning: [13:12:05] WARNING: /workspace/src/learner.cc:740: \n",
            "Parameters: { \"use_label_encoder\" } are not used.\n",
            "\n",
            "  warnings.warn(smsg, UserWarning)\n"
          ]
        },
        {
          "output_type": "display_data",
          "data": {
            "text/plain": [
              "<Figure size 1000x600 with 1 Axes>"
            ],
            "image/png": "[encoded data removed]"
          },
          "metadata": {}
        },
        {
          "output_type": "stream",
          "name": "stdout",
          "text": [
            "XGBoost Classifier trained and feature importance visualized.\n"
          ]
        }
      ]
    },
    {
      "cell_type": "code",
      "source": [
        "#24. # File: xgboost_feature_importance.py\n",
        "\n",
        "import numpy as np\n",
        "import matplotlib.pyplot as plt\n",
        "from sklearn.model_selection import train_test_split\n",
        "from sklearn.datasets import make_classification\n",
        "import xgboost as xgb\n",
        "\n",
        "print(\"--- 3. XGBoost Classifier and Feature Importance ---\")\n",
        "\n",
        "# Create a synthetic classification dataset\n",
        "X, y = make_classification(n_samples=1000, n_features=10, n_informative=5, n_redundant=0, random_state=42)\n",
        "X_train, X_test, y_train, y_test = train_test_split(X, y, test_size=0.2, random_state=42)\n",
        "\n",
        "# Train an XGBoost Classifier\n",
        "xgb_clf = xgb.XGBClassifier(objective='binary:logistic', eval_metric='logloss', use_label_encoder=False, random_state=42)\n",
        "xgb_clf.fit(X_train, y_train)\n",
        "\n",
        "# Visualize feature importances\n",
        "fig, ax = plt.subplots(figsize=(10, 6))\n",
        "xgb.plot_importance(xgb_clf, ax=ax)\n",
        "plt.title('XGBoost Classifier - Feature Importances')\n",
        "plt.show()\n",
        "\n",
        "print(\"XGBoost Classifier trained and feature importance visualized.\")"
      ],
      "metadata": {
        "colab": {
          "base_uri": "https://localhost:8080/",
          "height": 668
        },
        "id": "LM3-XqZQS4jg",
        "outputId": "c6860be1-6e44-4c6c-d7b5-4fb87042fa2b"
      },
      "execution_count": 26,
      "outputs": [
        {
          "output_type": "stream",
          "name": "stdout",
          "text": [
            "--- 3. XGBoost Classifier and Feature Importance ---\n"
          ]
        },
        {
          "output_type": "stream",
          "name": "stderr",
          "text": [
            "/usr/local/lib/python3.11/dist-packages/xgboost/core.py:158: UserWarning: [13:14:06] WARNING: /workspace/src/learner.cc:740: \n",
            "Parameters: { \"use_label_encoder\" } are not used.\n",
            "\n",
            "  warnings.warn(smsg, UserWarning)\n"
          ]
        },
        {
          "output_type": "display_data",
          "data": {
            "text/plain": [
              "<Figure size 1000x600 with 1 Axes>"
            ],
            "image/png": "[encoded data removed]"
          },
          "metadata": {}
        },
        {
          "output_type": "stream",
          "name": "stdout",
          "text": [
            "XGBoost Classifier trained and feature importance visualized.\n"
          ]
        }
      ]
    },
    {
      "cell_type": "code",
      "source": [
        "#25.Train an AdaBoost Classifier with different numbers of estimators and compare accuracy\n",
        "\n",
        "import numpy as np\n",
        "import matplotlib.pyplot as plt\n",
        "import seaborn as sns\n",
        "from sklearn.model_selection import train_test_split\n",
        "from sklearn.datasets import make_classification\n",
        "from sklearn.ensemble import AdaBoostClassifier\n",
        "from sklearn.metrics import accuracy_score\n",
        "\n",
        "print(\"--- 5. AdaBoost Classifier with varying estimators and accuracy comparison ---\")\n",
        "\n",
        "# Create a synthetic classification dataset\n",
        "X, y = make_classification(n_samples=1000, n_features=10, n_informative=5, n_redundant=0, random_state=42)\n",
        "X_train, X_test, y_train, y_test = train_test_split(X, y, test_size=0.2, random_state=42)\n",
        "\n",
        "# Define different numbers of estimators to test\n",
        "n_estimators_list = [50, 100, 150, 200, 250, 300]\n",
        "accuracies = []\n",
        "\n",
        "# Train AdaBoost Classifiers for each number of estimators and record accuracy\n",
        "for n in n_estimators_list:\n",
        "    ada_clf_n = AdaBoostClassifier(n_estimators=n, random_state=42)\n",
        "    ada_clf_n.fit(X_train, y_train)\n",
        "    y_pred_n = ada_clf_n.predict(X_test)\n",
        "    acc = accuracy_score(y_test, y_pred_n)\n",
        "    accuracies.append(acc)\n",
        "    print(f\"n_estimators: {n}, Accuracy: {acc:.4f}\")\n",
        "\n",
        "# Plot the accuracy comparison\n",
        "plt.figure(figsize=(10, 6))\n",
        "sns.lineplot(x=n_estimators_list, y=accuracies, marker='o')\n",
        "plt.title('AdaBoost Classifier - Accuracy vs. Number of Estimators')\n",
        "plt.xlabel('Number of Estimators')\n",
        "plt.ylabel('Accuracy')\n",
        "plt.grid(True)\n",
        "plt.show()\n",
        "\n",
        "print(\"AdaBoost Classifier trained with different numbers of estimators and accuracies compared.\")"
      ],
      "metadata": {
        "colab": {
          "base_uri": "https://localhost:8080/",
          "height": 703
        },
        "id": "7GgMv6WTS4hY",
        "outputId": "4ff13bb9-2ddc-46dc-9a34-93167983dc60"
      },
      "execution_count": 1,
      "outputs": [
        {
          "output_type": "stream",
          "name": "stdout",
          "text": [
            "--- 5. AdaBoost Classifier with varying estimators and accuracy comparison ---\n",
            "n_estimators: 50, Accuracy: 0.8300\n",
            "n_estimators: 100, Accuracy: 0.8500\n",
            "n_estimators: 150, Accuracy: 0.8400\n",
            "n_estimators: 200, Accuracy: 0.8400\n",
            "n_estimators: 250, Accuracy: 0.8350\n",
            "n_estimators: 300, Accuracy: 0.8350\n"
          ]
        },
        {
          "output_type": "display_data",
          "data": {
            "text/plain": [
              "<Figure size 1000x600 with 1 Axes>"
            ],
            "image/png": "[encoded data removed]"
          },
          "metadata": {}
        },
        {
          "output_type": "stream",
          "name": "stdout",
          "text": [
            "AdaBoost Classifier trained with different numbers of estimators and accuracies compared.\n"
          ]
        }
      ]
    },
    {
      "cell_type": "code",
      "source": [
        "#26. Train a Gradient Boosting Classifier and visualize the ROC curve\n",
        "# File: gradient_boosting_roc_curve.py\n",
        "\n",
        "import numpy as np\n",
        "import matplotlib.pyplot as plt\n",
        "from sklearn.model_selection import train_test_split\n",
        "from sklearn.datasets import make_classification\n",
        "from sklearn.ensemble import GradientBoostingClassifier\n",
        "from sklearn.metrics import roc_curve, auc\n",
        "\n",
        "print(\"--- 6. Gradient Boosting Classifier and ROC Curve ---\")\n",
        "\n",
        "# Create a synthetic classification dataset\n",
        "X, y = make_classification(n_samples=1000, n_features=10, n_informative=5, n_redundant=0, random_state=42)\n",
        "X_train, X_test, y_train, y_test = train_test_split(X, y, test_size=0.2, random_state=42)\n",
        "\n",
        "# Train a Gradient Boosting Classifier\n",
        "gb_clf = GradientBoostingClassifier(n_estimators=100, learning_rate=0.1, max_depth=3, random_state=42)\n",
        "gb_clf.fit(X_train, y_train)\n",
        "\n",
        "# Compute ROC curve and AUC\n",
        "y_prob_gb = gb_clf.predict_proba(X_test)[:, 1] # Probability of the positive class\n",
        "fpr, tpr, thresholds = roc_curve(y_test, y_prob_gb)\n",
        "roc_auc = auc(fpr, tpr)\n",
        "\n",
        "# Plot the ROC curve\n",
        "plt.figure(figsize=(8, 8))\n",
        "plt.plot(fpr, tpr, color='darkorange', lw=2, label=f'ROC curve (area = {roc_auc:.2f})')\n",
        "plt.plot([0, 1], [0, 1], color='navy', lw=2, linestyle='--') # Random classifier line\n",
        "plt.xlim([0.0, 1.0])\n",
        "plt.ylim([0.0, 1.05])\n",
        "plt.xlabel('False Positive Rate')\n",
        "plt.ylabel('True Positive Rate')\n",
        "plt.title('Gradient Boosting Classifier - Receiver Operating Characteristic (ROC) Curve')\n",
        "plt.legend(loc=\"lower right\")\n",
        "plt.grid(True)\n",
        "plt.show()\n",
        "\n",
        "print(\"Gradient Boosting Classifier trained and ROC curve visualized.\")"
      ],
      "metadata": {
        "colab": {
          "base_uri": "https://localhost:8080/",
          "height": 753
        },
        "id": "Ns68U1_DS4fS",
        "outputId": "de558f8d-b5c9-4184-b67f-d179a3850177"
      },
      "execution_count": 2,
      "outputs": [
        {
          "output_type": "stream",
          "name": "stdout",
          "text": [
            "--- 6. Gradient Boosting Classifier and ROC Curve ---\n"
          ]
        },
        {
          "output_type": "display_data",
          "data": {
            "text/plain": [
              "<Figure size 800x800 with 1 Axes>"
            ],
            "image/png": "[encoded data removed]"
          },
          "metadata": {}
        },
        {
          "output_type": "stream",
          "name": "stdout",
          "text": [
            "Gradient Boosting Classifier trained and ROC curve visualized.\n"
          ]
        }
      ]
    },
    {
      "cell_type": "code",
      "source": [
        "#27. Train an XGBoost Regressor and tune the learning rate using GridSearchCV\n",
        "# File: xgboost_regressor_gridsearchcv.py\n",
        "\n",
        "import numpy as np\n",
        "from sklearn.model_selection import train_test_split, GridSearchCV\n",
        "from sklearn.datasets import make_regression\n",
        "import xgboost as xgb\n",
        "\n",
        "print(\"--- 7. XGBoost Regressor and Learning Rate Tuning with GridSearchCV ---\")\n",
        "\n",
        "# Create a synthetic regression dataset\n",
        "X, y = make_regression(n_samples=1000, n_features=10, n_informative=5, random_state=42)\n",
        "X_train, X_test, y_train, y_test = train_test_split(X, y, test_size=0.2, random_state=42)\n",
        "\n",
        "# Initialize XGBoost Regressor\n",
        "xgb_reg = xgb.XGBRegressor(objective='reg:squarederror', eval_metric='rmse', use_label_encoder=False, random_state=42)\n",
        "\n",
        "# Define the parameter grid for learning_rate\n",
        "param_grid = {\n",
        "    'learning_rate': [0.01, 0.05, 0.1, 0.2, 0.3]\n",
        "}\n",
        "\n",
        "# Set up GridSearchCV\n",
        "# Using 'neg_mean_squared_error' because GridSearchCV maximizes scores, and we want to minimize MSE.\n",
        "grid_search = GridSearchCV(estimator=xgb_reg, param_grid=param_grid,\n",
        "                           scoring='neg_mean_squared_error', cv=3, verbose=1, n_jobs=-1)\n",
        "\n",
        "# Fit GridSearchCV to the training data\n",
        "grid_search.fit(X_train, y_train)\n",
        "\n",
        "# Report the best learning rate and its corresponding score\n",
        "print(f\"\\nBest learning rate: {grid_search.best_params_['learning_rate']}\")\n",
        "print(f\"Best MSE (negative, higher is better): {grid_search.best_score_:.4f}\")\n",
        "print(f\"Best MSE (positive): {-grid_search.best_score_:.4f}\")\n",
        "\n",
        "print(\"XGBoost Regressor trained and learning rate tuned using GridSearchCV.\")"
      ],
      "metadata": {
        "colab": {
          "base_uri": "https://localhost:8080/"
        },
        "id": "ytXe4_bMS4dd",
        "outputId": "77142376-fe75-4954-d76a-95ba3a04dbef"
      },
      "execution_count": 3,
      "outputs": [
        {
          "output_type": "stream",
          "name": "stdout",
          "text": [
            "--- 7. XGBoost Regressor and Learning Rate Tuning with GridSearchCV ---\n",
            "Fitting 3 folds for each of 5 candidates, totalling 15 fits\n"
          ]
        },
        {
          "output_type": "stream",
          "name": "stderr",
          "text": [
            "/usr/local/lib/python3.11/dist-packages/xgboost/core.py:158: UserWarning: [14:24:29] WARNING: /workspace/src/learner.cc:740: \n",
            "Parameters: { \"use_label_encoder\" } are not used.\n",
            "\n",
            "  warnings.warn(smsg, UserWarning)\n"
          ]
        },
        {
          "output_type": "stream",
          "name": "stdout",
          "text": [
            "\n",
            "Best learning rate: 0.2\n",
            "Best MSE (negative, higher is better): -185.9575\n",
            "Best MSE (positive): 185.9575\n",
            "XGBoost Regressor trained and learning rate tuned using GridSearchCV.\n"
          ]
        }
      ]
    },
    {
      "cell_type": "code",
      "source": [
        "#28. # File: catboost_imbalanced_class_weighting.py\n",
        "!pip install catboost\n",
        "import numpy as np\n",
        "from sklearn.model_selection import train_test_split\n",
        "from sklearn.datasets import make_classification\n",
        "from sklearn.metrics import accuracy_score, f1_score, precision_score, recall_score, confusion_matrix\n",
        "from catboost import CatBoostClassifier\n",
        "\n",
        "# Suppress CatBoost verbose output during training for cleaner console output\n",
        "import warnings\n",
        "warnings.filterwarnings('ignore')\n",
        "\n",
        "print(\"--- 8. CatBoost Classifier on Imbalanced Dataset with/without Class Weighting ---\")\n",
        "\n",
        "# Create an imbalanced synthetic classification dataset\n",
        "# 90% class 0, 10% class 1\n",
        "X, y = make_classification(n_samples=1000, n_features=10, n_informative=5, n_redundant=0,\n",
        "                           weights=[0.9, 0.1], flip_y=0, random_state=42)\n",
        "X_train, X_test, y_train, y_test = train_test_split(X, y, test_size=0.2, random_state=42, stratify=y)\n",
        "\n",
        "print(f\"Original dataset class distribution: {np.bincount(y)}\")\n",
        "print(f\"Training set class distribution: {np.bincount(y_train)}\")\n",
        "print(f\"Test set class distribution: {np.bincount(y_test)}\")\n",
        "\n",
        "# Calculate class weights for CatBoost (inverse of class frequencies)\n",
        "# This approach helps the model prioritize the minority class.\n",
        "class_counts = np.bincount(y_train)\n",
        "total_samples = len(y_train)\n",
        "# CatBoost expects class_weights as a list matching class labels (e.g., [weight_for_class_0, weight_for_class_1])\n",
        "# A common way to calculate them is N_total / (N_classes * N_samples_in_class)\n",
        "# Or for binary, a simpler approach is N_negative / N_positive for positive class, and 1 for negative.\n",
        "# CatBoost's `class_weights` expects a list, e.g., [w0, w1, ...]\n",
        "class_weights_catboost = [total_samples / (len(class_counts) * class_counts[i]) for i in range(len(class_counts))]\n",
        "print(f\"Calculated class weights for CatBoost: {class_weights_catboost}\")\n",
        "\n",
        "\n",
        "# --- Train CatBoost without class weighting ---\n",
        "print(\"\\n--- Performance without class weighting ---\")\n",
        "cat_clf_no_weights = CatBoostClassifier(iterations=100, learning_rate=0.1, depth=6,\n",
        "                                        loss_function='Logloss', verbose=0, random_seed=42)\n",
        "cat_clf_no_weights.fit(X_train, y_train)\n",
        "y_pred_no_weights = cat_clf_no_weights.predict(X_test)\n",
        "\n",
        "print(f\"Accuracy: {accuracy_score(y_test, y_pred_no_weights):.4f}\")\n",
        "print(f\"F1-score (weighted): {f1_score(y_test, y_pred_no_weights, average='weighted'):.4f}\")\n",
        "print(f\"Precision (weighted): {precision_score(y_test, y_pred_no_weights, average='weighted'):.4f}\")\n",
        "print(f\"Recall (weighted): {recall_score(y_test, y_pred_no_weights, average='weighted'):.4f}\")\n",
        "print(\"Confusion Matrix:\\n\", confusion_matrix(y_test, y_pred_no_weights))\n",
        "\n",
        "\n",
        "# --- Train CatBoost with class weighting ---\n",
        "print(\"\\n--- Performance with class weighting ---\")\n",
        "cat_clf_weights = CatBoostClassifier(iterations=100, learning_rate=0.1, depth=6,\n",
        "                                     loss_function='Logloss', verbose=0, random_seed=42,\n",
        "                                     class_weights=class_weights_catboost) # Apply calculated weights\n",
        "cat_clf_weights.fit(X_train, y_train)\n",
        "y_pred_weights = cat_clf_weights.predict(X_test)\n",
        "\n",
        "print(f\"Accuracy: {accuracy_score(y_test, y_pred_weights):.4f}\")\n",
        "print(f\"F1-score (weighted): {f1_score(y_test, y_pred_weights, average='weighted'):.4f}\")\n",
        "print(f\"Precision (weighted): {precision_score(y_test, y_pred_weights, average='weighted'):.4f}\")\n",
        "print(f\"Recall (weighted): {recall_score(y_test, y_pred_weights, average='weighted'):.4f}\")\n",
        "print(\"Confusion Matrix:\\n\", confusion_matrix(y_test, y_pred_weights))\n",
        "\n",
        "print(\"CatBoost Classifier trained on imbalanced dataset with/without class weighting and performance compared.\")"
      ],
      "metadata": {
        "colab": {
          "base_uri": "https://localhost:8080/"
        },
        "id": "waExTi1LS4ak",
        "outputId": "eef401ce-31f0-46b7-af06-caa9cf3d17bd"
      },
      "execution_count": 5,
      "outputs": [
        {
          "output_type": "stream",
          "name": "stdout",
          "text": [
            "Collecting catboost\n",
            "  Downloading catboost-1.2.8-cp311-cp311-manylinux2014_x86_64.whl.metadata (1.2 kB)\n",
            "Requirement already satisfied: graphviz in /usr/local/lib/python3.11/dist-packages (from catboost) (0.21)\n",
            "Requirement already satisfied: matplotlib in /usr/local/lib/python3.11/dist-packages (from catboost) (3.10.0)\n",
            "Requirement already satisfied: numpy<3.0,>=1.16.0 in /usr/local/lib/python3.11/dist-packages (from catboost) (2.0.2)\n",
            "Requirement already satisfied: pandas>=0.24 in /usr/local/lib/python3.11/dist-packages (from catboost) (2.2.2)\n",
            "Requirement already satisfied: scipy in /usr/local/lib/python3.11/dist-packages (from catboost) (1.15.3)\n",
            "Requirement already satisfied: plotly in /usr/local/lib/python3.11/dist-packages (from catboost) (5.24.1)\n",
            "Requirement already satisfied: six in /usr/local/lib/python3.11/dist-packages (from catboost) (1.17.0)\n",
            "Requirement already satisfied: python-dateutil>=2.8.2 in /usr/local/lib/python3.11/dist-packages (from pandas>=0.24->catboost) (2.9.0.post0)\n",
            "Requirement already satisfied: pytz>=2020.1 in /usr/local/lib/python3.11/dist-packages (from pandas>=0.24->catboost) (2025.2)\n",
            "Requirement already satisfied: tzdata>=2022.7 in /usr/local/lib/python3.11/dist-packages (from pandas>=0.24->catboost) (2025.2)\n",
            "Requirement already satisfied: contourpy>=1.0.1 in /usr/local/lib/python3.11/dist-packages (from matplotlib->catboost) (1.3.2)\n",
            "Requirement already satisfied: cycler>=0.10 in /usr/local/lib/python3.11/dist-packages (from matplotlib->catboost) (0.12.1)\n",
            "Requirement already satisfied: fonttools>=4.22.0 in /usr/local/lib/python3.11/dist-packages (from matplotlib->catboost) (4.58.4)\n",
            "Requirement already satisfied: kiwisolver>=1.3.1 in /usr/local/lib/python3.11/dist-packages (from matplotlib->catboost) (1.4.8)\n",
            "Requirement already satisfied: packaging>=20.0 in /usr/local/lib/python3.11/dist-packages (from matplotlib->catboost) (24.2)\n",
            "Requirement already satisfied: pillow>=8 in /usr/local/lib/python3.11/dist-packages (from matplotlib->catboost) (11.2.1)\n",
            "Requirement already satisfied: pyparsing>=2.3.1 in /usr/local/lib/python3.11/dist-packages (from matplotlib->catboost) (3.2.3)\n",
            "Requirement already satisfied: tenacity>=6.2.0 in /usr/local/lib/python3.11/dist-packages (from plotly->catboost) (9.1.2)\n",
            "Downloading catboost-1.2.8-cp311-cp311-manylinux2014_x86_64.whl (99.2 MB)\n",
            "\u001b[2K   \u001b[90m━━━━━━━━━━━━━━━━━━━━━━━━━━━━━━━━━━━━━━━━\u001b[0m \u001b[32m99.2/99.2 MB\u001b[0m \u001b[31m12.2 MB/s\u001b[0m eta \u001b[36m0:00:00\u001b[0m\n",
            "\u001b[?25hInstalling collected packages: catboost\n",
            "Successfully installed catboost-1.2.8\n",
            "--- 8. CatBoost Classifier on Imbalanced Dataset with/without Class Weighting ---\n",
            "Original dataset class distribution: [900 100]\n",
            "Training set class distribution: [720  80]\n",
            "Test set class distribution: [180  20]\n",
            "Calculated class weights for CatBoost: [np.float64(0.5555555555555556), np.float64(5.0)]\n",
            "\n",
            "--- Performance without class weighting ---\n",
            "Accuracy: 0.9550\n",
            "F1-score (weighted): 0.9490\n",
            "Precision (weighted): 0.9571\n",
            "Recall (weighted): 0.9550\n",
            "Confusion Matrix:\n",
            " [[180   0]\n",
            " [  9  11]]\n",
            "\n",
            "--- Performance with class weighting ---\n",
            "Accuracy: 0.9600\n",
            "F1-score (weighted): 0.9600\n",
            "Precision (weighted): 0.9600\n",
            "Recall (weighted): 0.9600\n",
            "Confusion Matrix:\n",
            " [[176   4]\n",
            " [  4  16]]\n",
            "CatBoost Classifier trained on imbalanced dataset with/without class weighting and performance compared.\n"
          ]
        }
      ]
    },
    {
      "cell_type": "code",
      "source": [
        "#29. Train an AdaBoost Classifier and analyze the effect of different learning rates\n",
        "# File: adaboost_learning_rate_analysis.py\n",
        "\n",
        "import numpy as np\n",
        "import matplotlib.pyplot as plt\n",
        "import seaborn as sns\n",
        "from sklearn.model_selection import train_test_split\n",
        "from sklearn.datasets import make_classification\n",
        "from sklearn.ensemble import AdaBoostClassifier\n",
        "from sklearn.metrics import accuracy_score\n",
        "\n",
        "print(\"--- 9. AdaBoost Classifier and effect of different learning rates ---\")\n",
        "\n",
        "# Create a synthetic classification dataset\n",
        "X, y = make_classification(n_samples=1000, n_features=10, n_informative=5, n_redundant=0, random_state=42)\n",
        "X_train, X_test, y_train, y_test = train_test_split(X, y, test_size=0.2, random_state=42)\n",
        "\n",
        "# Define different learning rates to test\n",
        "learning_rates = [0.01, 0.05, 0.1, 0.5, 1.0, 1.5, 2.0]\n",
        "accuracies_lr = []\n",
        "\n",
        "# Train AdaBoost Classifiers for each learning rate and record accuracy\n",
        "for lr in learning_rates:\n",
        "    ada_clf_lr = AdaBoostClassifier(learning_rate=lr, random_state=42)\n",
        "    ada_clf_lr.fit(X_train, y_train)\n",
        "    y_pred_lr = ada_clf_lr.predict(X_test)\n",
        "    acc_lr = accuracy_score(y_test, y_pred_lr)\n",
        "    accuracies_lr.append(acc_lr)\n",
        "    print(f\"Learning Rate: {lr:.2f}, Accuracy: {acc_lr:.4f}\")\n",
        "\n",
        "# Plot the accuracy comparison\n",
        "plt.figure(figsize=(10, 6))\n",
        "sns.lineplot(x=learning_rates, y=accuracies_lr, marker='o')\n",
        "plt.title('AdaBoost Classifier - Accuracy vs. Learning Rate')\n",
        "plt.xlabel('Learning Rate')\n",
        "plt.ylabel('Accuracy')\n",
        "plt.grid(True)\n",
        "plt.show()\n",
        "\n",
        "print(\"AdaBoost Classifier trained and effect of different learning rates analyzed.\")"
      ],
      "metadata": {
        "colab": {
          "base_uri": "https://localhost:8080/",
          "height": 720
        },
        "id": "mdcDvszQS4YJ",
        "outputId": "1cd96340-2320-4037-ef54-5e994e3633ec"
      },
      "execution_count": 6,
      "outputs": [
        {
          "output_type": "stream",
          "name": "stdout",
          "text": [
            "--- 9. AdaBoost Classifier and effect of different learning rates ---\n",
            "Learning Rate: 0.01, Accuracy: 0.6650\n",
            "Learning Rate: 0.05, Accuracy: 0.6850\n",
            "Learning Rate: 0.10, Accuracy: 0.7250\n",
            "Learning Rate: 0.50, Accuracy: 0.8200\n",
            "Learning Rate: 1.00, Accuracy: 0.8300\n",
            "Learning Rate: 1.50, Accuracy: 0.8150\n",
            "Learning Rate: 2.00, Accuracy: 0.5850\n"
          ]
        },
        {
          "output_type": "display_data",
          "data": {
            "text/plain": [
              "<Figure size 1000x600 with 1 Axes>"
            ],
            "image/png": "[encoded data removed]"
          },
          "metadata": {}
        },
        {
          "output_type": "stream",
          "name": "stdout",
          "text": [
            "AdaBoost Classifier trained and effect of different learning rates analyzed.\n"
          ]
        }
      ]
    },
    {
      "cell_type": "code",
      "source": [
        "#30.Train an XGBoost Classifier for multi-class classification and evaluate using log-loss.\n",
        "\n",
        "\n",
        "\n",
        "import numpy as np\n",
        "from sklearn.model_selection import train_test_split\n",
        "from sklearn.datasets import make_classification\n",
        "from sklearn.metrics import log_loss\n",
        "import xgboost as xgb\n",
        "\n",
        "print(\"--- 10. XGBoost Classifier for Multi-class and Log-loss Evaluation ---\")\n",
        "\n",
        "# Create a synthetic multi-class classification dataset (3 classes)\n",
        "X, y = make_classification(n_samples=1000, n_features=10, n_informative=5, n_redundant=0,\n",
        "                           n_classes=3, n_clusters_per_class=1, random_state=42)\n",
        "X_train, X_test, y_train, y_test = train_test_split(X, y, test_size=0.2, random_state=42)\n",
        "\n",
        "# Get the number of unique classes\n",
        "num_classes = len(np.unique(y))\n",
        "print(f\"Number of classes in the dataset: {num_classes}\")\n",
        "\n",
        "# Train an XGBoost Classifier for multi-class classification\n",
        "# objective='multi:softprob' ensures probability outputs for each class\n",
        "# eval_metric='mlogloss' is the multi-class logloss\n",
        "xgb_mc_clf = xgb.XGBClassifier(objective='multi:softprob',\n",
        "                               num_class=num_classes,\n",
        "                               eval_metric='mlogloss',\n",
        "                               use_label_encoder=False,\n",
        "                               random_state=42)\n",
        "xgb_mc_clf.fit(X_train, y_train)\n",
        "\n",
        "# Predict probabilities on the test set\n",
        "# log_loss requires probabilities for all classes\n",
        "y_prob_mc = xgb_mc_clf.predict_proba(X_test)\n",
        "\n",
        "# Calculate and report the log-loss\n",
        "loss = log_loss(y_test, y_prob_mc)\n",
        "\n",
        "print(f\"XGBoost Multi-class Classifier Log-loss: {loss:.4f}\")\n",
        "print(\"XGBoost Classifier trained for multi-class classification and evaluated using log-loss.\")"
      ],
      "metadata": {
        "colab": {
          "base_uri": "https://localhost:8080/"
        },
        "id": "yqCnMZWbS4Vm",
        "outputId": "d531ae07-4cec-41c6-83cb-5da4a9a92419"
      },
      "execution_count": 8,
      "outputs": [
        {
          "output_type": "stream",
          "name": "stdout",
          "text": [
            "--- 10. XGBoost Classifier for Multi-class and Log-loss Evaluation ---\n",
            "Number of classes in the dataset: 3\n",
            "XGBoost Multi-class Classifier Log-loss: 0.1640\n",
            "XGBoost Classifier trained for multi-class classification and evaluated using log-loss.\n"
          ]
        }
      ]
    },
    {
      "cell_type": "code",
      "source": [],
      "metadata": {
        "id": "UIKWFFceS4TG"
      },
      "execution_count": null,
      "outputs": []
    }
  ]
}